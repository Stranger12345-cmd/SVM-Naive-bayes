{
  "nbformat": 4,
  "nbformat_minor": 0,
  "metadata": {
    "colab": {
      "provenance": []
    },
    "kernelspec": {
      "name": "python3",
      "display_name": "Python 3"
    },
    "language_info": {
      "name": "python"
    }
  },
  "cells": [
    {
      "cell_type": "markdown",
      "source": [
        "#Theoretical"
      ],
      "metadata": {
        "id": "AtSeZyOSLY1T"
      }
    },
    {
      "cell_type": "markdown",
      "source": [
        "**1) What is a Support Vector Machine (SVM)?**"
      ],
      "metadata": {
        "id": "NfZC0zIaHAu2"
      }
    },
    {
      "cell_type": "markdown",
      "source": [
        "**Support Vector Machine (SVM)**\n",
        "\n",
        "SVM is a supervised learning algorithm used for classification and regression.\n",
        "\n",
        " It finds the best hyperplane that separates classes with the maximum margin.\n",
        "\n",
        "  It uses support vectors (key data points) and can handle non-linear data using the kernel trick."
      ],
      "metadata": {
        "id": "9UrWs-hsHMkd"
      }
    },
    {
      "cell_type": "markdown",
      "source": [
        "**2) What is the difference between Hard Margin and Soft Margin SVM?**"
      ],
      "metadata": {
        "id": "B633I_9dHVi0"
      }
    },
    {
      "cell_type": "markdown",
      "source": [
        "# Difference Between Hard Margin and Soft Margin SVM\n",
        "\n",
        "- **Hard Margin SVM**  \n",
        "  - Strictly separates data with a clear margin.  \n",
        "  - Works for perfectly separable data.  \n",
        "  - No tolerance for misclassification.  \n",
        "  - High risk of overfitting if data is noisy.  \n",
        "  - No regularization (C is very high).  \n",
        "\n",
        "- **Soft Margin SVM**  \n",
        "  - Allows some misclassification for better generalization.  \n",
        "  - Used for noisy or overlapping data.  \n",
        "  - Flexible, allows small violations.  \n",
        "  - Lower risk of overfitting.  \n",
        "  - Uses regularization (C controls trade-off).  \n"
      ],
      "metadata": {
        "id": "SGtfmcReHh_L"
      }
    },
    {
      "cell_type": "markdown",
      "source": [
        "**3) What is the mathematical intuition behind SVM?**"
      ],
      "metadata": {
        "id": "ZoSY9p75Hnf4"
      }
    },
    {
      "cell_type": "markdown",
      "source": [
        "# Mathematical Intuition Behind SVM\n",
        "\n",
        "## **1. Hyperplane Equation**\n",
        "SVM finds the optimal hyperplane to separate classes.\n",
        "\n",
        "Equation:  \n",
        "w · x + b = 0  \n",
        "\n",
        "Where:  \n",
        "- w = weight vector  \n",
        "- x = input features  \n",
        "- b = bias term  \n",
        "\n",
        "## **2. Margin Calculation**\n",
        "SVM maximizes the margin between classes.  \n",
        "\n",
        "Margin formula:  \n",
        "Margin = 2 / ||w||  \n",
        "\n",
        "## **3. Optimization Problem**\n",
        "For correctly classified points:  \n",
        "y_i (w · x_i + b) ≥ 1  \n",
        "\n",
        "SVM minimizes:  \n",
        "(1/2) ||w||²  \n",
        "\n",
        "For **Soft Margin SVM**, a penalty term is added:  \n",
        "C ∑ ξ_i (to allow some misclassifications).  \n",
        "\n",
        "## **4. Kernel Trick (For Non-Linear Data)**\n",
        "Transforms data into higher dimensions for better separation.  \n",
        "\n",
        "Kernel function:  \n",
        "K(x_i, x_j) = φ(x_i) · φ(x_j)  \n"
      ],
      "metadata": {
        "id": "QltYBfRDH0vD"
      }
    },
    {
      "cell_type": "markdown",
      "source": [
        "**4) What is the role of Lagrange Multipliers in SVM?**"
      ],
      "metadata": {
        "id": "upr6UxFiH8OQ"
      }
    },
    {
      "cell_type": "markdown",
      "source": [
        "# Role of Lagrange Multipliers in SVM\n",
        "\n",
        "## **1. Purpose**\n",
        "Lagrange Multipliers help solve the constrained optimization problem in SVM by converting it into an easier dual form.\n",
        "\n",
        "## **2. Optimization Problem**\n",
        "SVM minimizes:  \n",
        "(1/2) ||w||²  \n",
        "Subject to:  \n",
        "y_i (w · x_i + b) ≥ 1  \n",
        "\n",
        "## **3. Lagrangian Function**\n",
        "Using Lagrange multipliers (α_i), the problem becomes:  \n",
        "L(w, b, α) = (1/2) ||w||² - ∑ α_i [y_i (w · x_i + b) - 1]  \n",
        "\n",
        "## **4. Dual Formulation**\n",
        "Solving for α_i gives:  \n",
        "Maximize:  \n",
        "∑ α_i - (1/2) ∑∑ α_i α_j y_i y_j (x_i · x_j)  \n",
        "Subject to:  \n",
        "α_i ≥ 0 and ∑ α_i y_i = 0  \n",
        "\n",
        "## **5. Support Vectors**\n",
        "Only nonzero α_i correspond to support vectors, which define the decision boundary.\n",
        "\n",
        "## **6. Kernel Trick**\n",
        "Replaces (x_i · x_j) with a kernel function K(x_i, x_j) to handle non-linear classification.\n"
      ],
      "metadata": {
        "id": "X3JI28iMIMo5"
      }
    },
    {
      "cell_type": "markdown",
      "source": [
        "**5) What are Support Vectors in SVM?**"
      ],
      "metadata": {
        "id": "aoWFDeHHISIK"
      }
    },
    {
      "cell_type": "markdown",
      "source": [
        "# Support Vectors in SVM\n",
        "\n",
        "## **1. Definition**  \n",
        "Support vectors are the data points closest to the decision boundary (hyperplane) in SVM.\n",
        "\n",
        "## **2. Importance**  \n",
        "- They define the margin of separation.  \n",
        "- The decision boundary depends only on these points.  \n",
        "\n",
        "## **3. Condition**  \n",
        "For correctly classified points:  \n",
        "y_i (w · x_i + b) = 1  \n",
        "\n",
        "## **4. Role in Optimization**  \n",
        "Only support vectors have nonzero Lagrange multipliers (α_i ≠ 0).  \n",
        "\n",
        "## **5. Effect on Decision Boundary**  \n",
        "Removing non-support vectors does not change the boundary, but removing a support vector does.\n"
      ],
      "metadata": {
        "id": "lLkE-VBcIYII"
      }
    },
    {
      "cell_type": "markdown",
      "source": [
        "**6) What is a Support Vector Classifier (SVC)?**"
      ],
      "metadata": {
        "id": "ZkM5Dcn7IeKb"
      }
    },
    {
      "cell_type": "markdown",
      "source": [
        "# Support Vector Classifier (SVC)\n",
        "\n",
        "## **1. Definition**  \n",
        "SVC is an extension of SVM used for classification tasks by finding the optimal hyperplane.\n",
        "\n",
        "## **2. Hard vs. Soft Margin**  \n",
        "- **Hard Margin**: No misclassification allowed.  \n",
        "- **Soft Margin**: Allows some misclassification using a penalty term (C).\n",
        "\n",
        "## **3. Decision Function**  \n",
        "f(x) = sign(w · x + b)  \n",
        "\n",
        "## **4. Kernel Trick**  \n",
        "Transforms data into higher dimensions using kernels for non-linear classification.\n",
        "\n",
        "## **5. Optimization**  \n",
        "Maximizes margin while minimizing classification errors.\n"
      ],
      "metadata": {
        "id": "zphm7RDtIkVL"
      }
    },
    {
      "cell_type": "markdown",
      "source": [
        "**7) What is a Support Vector Regressor (SVR)?**"
      ],
      "metadata": {
        "id": "EvS-PG81IqHl"
      }
    },
    {
      "cell_type": "markdown",
      "source": [
        "# Support Vector Regressor (SVR)\n",
        "\n",
        "## **1. Definition**  \n",
        "SVR is an extension of SVM used for regression tasks by finding a hyperplane that best fits the data.\n",
        "\n",
        "## **2. ε-Insensitive Loss**  \n",
        "- Ignores errors within a margin **ε**.  \n",
        "- Only penalizes points outside this margin.\n",
        "\n",
        "## **3. Objective Function**  \n",
        "Minimizes:  \n",
        "(1/2) ||w||²  \n",
        "Subject to:  \n",
        "|y_i - (w · x_i + b)| ≤ ε  \n",
        "\n",
        "## **4. Kernel Trick**  \n",
        "Uses kernels for non-linear regression.\n",
        "\n",
        "## **5. Regularization (C)**  \n",
        "Controls the trade-off between margin width and error tolerance.\n"
      ],
      "metadata": {
        "id": "KzeAqyqdIw7w"
      }
    },
    {
      "cell_type": "markdown",
      "source": [
        "**8) What is the Kernel Trick in SVM ?**"
      ],
      "metadata": {
        "id": "bF-EUsvpI2d5"
      }
    },
    {
      "cell_type": "markdown",
      "source": [
        "# Kernel Trick in SVM\n",
        "\n",
        "## **1. Definition**  \n",
        "The Kernel Trick allows SVM to handle non-linear data by mapping it to a higher-dimensional space.\n",
        "\n",
        "## **2. Purpose**  \n",
        "- Transforms data to make it linearly separable.  \n",
        "- Avoids explicit computation of high-dimensional features.\n",
        "\n",
        "## **3. Common Kernels**  \n",
        "- **Linear Kernel**: K(x, y) = x · y  \n",
        "- **Polynomial Kernel**: K(x, y) = (x · y + c)^d  \n",
        "- **RBF Kernel**: K(x, y) = exp(-γ ||x - y||²)  \n",
        "- **Sigmoid Kernel**: K(x, y) = tanh(α x · y + c)\n",
        "\n",
        "## **4. Benefit**  \n",
        "Computes inner products in high-dimensional space efficiently using kernel functions.\n"
      ],
      "metadata": {
        "id": "Qt8ykMtWI9AF"
      }
    },
    {
      "cell_type": "markdown",
      "source": [
        "**8) Compare Linear Kernel, Polynomial Kernel, and RBF Kernel?**"
      ],
      "metadata": {
        "id": "ZVJ2de30JNq3"
      }
    },
    {
      "cell_type": "markdown",
      "source": [
        "# Comparison of SVM Kernels\n",
        "\n",
        "| **Kernel**       | **Equation**                      | **Usage**                 | **Advantages**            | **Disadvantages**              |\n",
        "|------------------|----------------------------------|---------------------------|---------------------------|--------------------------------|\n",
        "| **Linear**      | K(x, y) = x · y                 | Linearly separable data   | Fast, simple, interpretable | Cannot handle complex patterns |\n",
        "| **Polynomial**  | K(x, y) = (x · y + c)^d         | Non-linear data with interactions | Captures feature interactions | Computationally expensive for large d |\n",
        "| **RBF (Gaussian)** | K(x, y) = exp(-γ ||x - y||²) | Complex, non-linear data  | Handles intricate patterns well | Hard to interpret, γ tuning required |\n",
        "\n",
        "## **Key Takeaways**  \n",
        "- **Linear**: Best for simple, high-dimensional data.  \n",
        "- **Polynomial**: Captures interactions but may overfit.  \n",
        "- **RBF**: Most flexible but requires careful tuning.\n"
      ],
      "metadata": {
        "id": "VZS0vuZiJTqk"
      }
    },
    {
      "cell_type": "markdown",
      "source": [
        "**10) What is the effect of the C parameter in SVM?**"
      ],
      "metadata": {
        "id": "CpauyLO5JYnz"
      }
    },
    {
      "cell_type": "markdown",
      "source": [
        "# Effect of C Parameter in SVM\n",
        "\n",
        "## **1. Definition**  \n",
        "The C parameter controls the trade-off between maximizing the margin and minimizing classification errors.\n",
        "\n",
        "## **2. Effect of C Values**  \n",
        "- **Low C (Large Margin, More Misclassifications)**  \n",
        "  - Allows a wider margin.  \n",
        "  - More tolerant of misclassified points.  \n",
        "  - Risk of underfitting.  \n",
        "\n",
        "- **High C (Small Margin, Fewer Misclassifications)**  \n",
        "  - Tries to classify all points correctly.  \n",
        "  - Margin is narrow.  \n",
        "  - Risk of overfitting.  \n",
        "\n",
        "## **3. Choosing C**  \n",
        "- Use **low C** for noisy data to generalize better.  \n",
        "- Use **high C** for strict classification when errors must be minimized.\n"
      ],
      "metadata": {
        "id": "v9FRq_W0JeUU"
      }
    },
    {
      "cell_type": "markdown",
      "source": [
        "**11) What is the role of the Gamma parameter in RBF Kernel SVM?**"
      ],
      "metadata": {
        "id": "P_r0IDiMJj4U"
      }
    },
    {
      "cell_type": "markdown",
      "source": [
        "# Role of Gamma (γ) in RBF Kernel SVM\n",
        "\n",
        "## **1. Definition**  \n",
        "Gamma (γ) controls the influence of a single training example in RBF SVM.\n",
        "\n",
        "## **2. Effect of γ Values**  \n",
        "- **Low γ (Far Influence, Simpler Model)**  \n",
        "  - Each point has a **large** influence.  \n",
        "  - Decision boundary is **smooth**.  \n",
        "  - Risk of **underfitting**.  \n",
        "\n",
        "- **High γ (Near Influence, Complex Model)**  \n",
        "  - Each point has a **small** influence.  \n",
        "  - Decision boundary is **complex**.  \n",
        "  - Risk of **overfitting**.  \n",
        "\n",
        "## **3. Choosing γ**  \n",
        "- Use **low γ** for general patterns.  \n",
        "- Use **high γ** for highly detailed boundaries.\n"
      ],
      "metadata": {
        "id": "DjXwZ-WKJppM"
      }
    },
    {
      "cell_type": "markdown",
      "source": [
        "**12) What is the Naïve Bayes classifier, and why is it called \"Naïve\"?**"
      ],
      "metadata": {
        "id": "agIgoEnwJvKC"
      }
    },
    {
      "cell_type": "markdown",
      "source": [
        "# Naïve Bayes Classifier\n",
        "\n",
        "## **1. Definition**  \n",
        "Naïve Bayes is a probabilistic classifier based on **Bayes’ Theorem** that assumes feature independence.\n",
        "\n",
        "## **2. Why \"Naïve\"?**  \n",
        "- It assumes that all features are **independent**, which is often unrealistic.  \n",
        "- Despite this **\"naïve\"** assumption, it works well in many real-world applications.\n",
        "\n",
        "## **3. Bayes' Theorem**  \n",
        "\\[\n",
        "P(Y|X) = \\frac{P(X|Y) P(Y)}{P(X)}\n",
        "\\]\n",
        "- \\( P(Y|X) \\) → Posterior probability  \n",
        "- \\( P(X|Y) \\) → Likelihood  \n",
        "- \\( P(Y) \\) → Prior probability  \n",
        "- \\( P(X) \\) → Evidence\n",
        "\n",
        "## **4. Key Advantages**  \n",
        "✔ Fast and efficient for large datasets  \n",
        "✔ Works well with text classification (e.g., spam filtering)  \n",
        "✔ Handles missing data well  \n",
        "\n",
        "## **5. Limitation**  \n",
        "✖ Assumes feature independence, which may not hold in real data.\n"
      ],
      "metadata": {
        "id": "BH0eVFsBJ1Yo"
      }
    },
    {
      "cell_type": "markdown",
      "source": [
        "**13) What is Bayes’ Theorem?**"
      ],
      "metadata": {
        "id": "Fr2JS5WJJ7hy"
      }
    },
    {
      "cell_type": "markdown",
      "source": [
        "# Bayes' Theorem\n",
        "\n",
        "## **1. Definition**  \n",
        "Bayes’ Theorem describes the probability of an event based on prior knowledge of related conditions.\n",
        "\n",
        "## **2. Formula**  \n",
        "\\[\n",
        "P(A|B) = \\frac{P(B|A) P(A)}{P(B)}\n",
        "\\]\n",
        "Where:  \n",
        "- \\( P(A|B) \\) → Posterior probability (probability of A given B)  \n",
        "- \\( P(B|A) \\) → Likelihood (probability of B given A)  \n",
        "- \\( P(A) \\) → Prior probability of A  \n",
        "- \\( P(B) \\) → Probability of B  \n",
        "\n",
        "## **3. Application**  \n",
        "✔ Used in **Naïve Bayes Classifier**  \n",
        "✔ Applied in **Spam Detection**  \n",
        "✔ Helps in **Medical Diagnosis**  \n",
        "\n",
        "## **4. Key Idea**  \n",
        "- Updates prior knowledge with new evidence.  \n",
        "- Helps in probabilistic decision-making.\n"
      ],
      "metadata": {
        "id": "yTU4KV9BKA5x"
      }
    },
    {
      "cell_type": "markdown",
      "source": [
        "**14) Explain the differences between Gaussian Naïve Bayes, Multinomial Naïve Bayes, and Bernoulli Naïve Bayes?**"
      ],
      "metadata": {
        "id": "azov0O23KGwX"
      }
    },
    {
      "cell_type": "markdown",
      "source": [
        "# Differences Between Naïve Bayes Variants\n",
        "\n",
        "| Type                  | Suitable For               | Assumes                  | Example Use Case |\n",
        "|----------------------|-------------------------|------------------------|-----------------|\n",
        "| **Gaussian NB**      | Continuous data          | Follows Normal Distribution | Iris dataset (numeric features) |\n",
        "| **Multinomial NB**   | Discrete count data      | Feature values are counts | Text classification (word frequency) |\n",
        "| **Bernoulli NB**     | Binary data (0/1)        | Features are independent binary variables | Spam detection (word presence/absence) |\n",
        "\n",
        "## **1. Gaussian Naïve Bayes (GNB)**\n",
        "- Used when features are **continuous**.  \n",
        "- Assumes **Gaussian (Normal) distribution**.  \n",
        "- Example: Classifying **flower species** based on sepal/petal measurements.\n",
        "\n",
        "## **2. Multinomial Naïve Bayes (MNB)**\n",
        "- Used for **discrete count data**.  \n",
        "- Commonly used in **text classification** (e.g., spam filtering).  \n",
        "- Example: Classifying emails based on **word frequencies**.\n",
        "\n",
        "## **3. Bernoulli Naïve Bayes (BNB)**\n",
        "- Used for **binary feature data** (0 or 1).  \n",
        "- Example: Whether a specific **word is present** in an email.  \n",
        "- Good for **document classification** where features are **word presence/absence**.\n",
        "\n",
        "### **Key Differences**\n",
        "- **Gaussian NB** → **Continuous Data**  \n",
        "- **Multinomial NB** → **Count Data**  \n",
        "- **Bernoulli NB**\n"
      ],
      "metadata": {
        "id": "FqIOdYDdKMH6"
      }
    },
    {
      "cell_type": "markdown",
      "source": [
        "**15) When should you use Gaussian Naïve Bayes over other variants?**"
      ],
      "metadata": {
        "id": "sgd-gIkyKSIx"
      }
    },
    {
      "cell_type": "markdown",
      "source": [
        "# When to Use Gaussian Naïve Bayes (GNB)\n",
        "\n",
        "## **Use GNB when:**\n",
        "✔ Data has **continuous features** (e.g., height, weight, temperature).  \n",
        "✔ Features **follow a normal (Gaussian) distribution**.  \n",
        "✔ You need **fast and simple classification**.  \n",
        "\n",
        "## **Example Scenarios**\n",
        "- **Medical diagnosis** (e.g., predicting diseases based on patient vitals).  \n",
        "- **Iris dataset** (classifying flowers using petal/sepal lengths).  \n",
        "- **Weather prediction** (temperature-based classification).  \n",
        "\n",
        "## **Why Not Use Other Variants?**\n",
        "- **Multinomial NB** → Works better for **text classification** (word counts).  \n",
        "- **Bernoulli NB** → Best for **binary features** (word presence/absence).  \n"
      ],
      "metadata": {
        "id": "sQpsstjRKXD4"
      }
    },
    {
      "cell_type": "markdown",
      "source": [
        "**16) What are the key assumptions made by Naïve Bayes?**"
      ],
      "metadata": {
        "id": "2HmBFq65Kb4L"
      }
    },
    {
      "cell_type": "markdown",
      "source": [
        "# Key Assumptions of Naïve Bayes\n",
        "\n",
        "1️⃣ **Feature Independence**  \n",
        "   - Assumes all features are **independent** given the class label.  \n",
        "   - Example: In spam detection, the presence of \"free\" and \"win\" are treated independently.  \n",
        "\n",
        "2️⃣ **Equal Importance of Features**  \n",
        "   - Assumes all features contribute **equally** to the outcome.  \n",
        "   - Example: In sentiment analysis, every word has an equal role in determining sentiment.  \n",
        "\n",
        "3️⃣ **Conditional Probability**  \n",
        "   - Uses **Bayes’ Theorem** to compute class probabilities.  \n",
        "   - Example: Probability of an email being spam given certain words.  \n",
        "\n",
        "4️⃣ **Data Follows a Specific Distribution**  \n",
        "   - **Gaussian NB** assumes a **normal distribution** for continuous features.  \n",
        "   - **Multinomial NB** assumes **count-based features** (e.g., word frequency).  \n",
        "   - **Bernoulli NB** assumes **binary features** (e.g., word presence/absence).  \n",
        "\n",
        "✔ Naïve Bayes works well **even if assumptions are slightly violated**! 🚀  \n"
      ],
      "metadata": {
        "id": "8cjZVAPrKhcJ"
      }
    },
    {
      "cell_type": "markdown",
      "source": [
        "**17) What are the advantages and disadvantages of Naïve Bayes?**"
      ],
      "metadata": {
        "id": "IwNU-MEJKm4_"
      }
    },
    {
      "cell_type": "markdown",
      "source": [
        "# Advantages & Disadvantages of Naïve Bayes  \n",
        "\n",
        "## Advantages:  \n",
        "- Fast & Efficient – Works well with large datasets.  \n",
        "- Performs well with small data – Needs less training data.  \n",
        "- Handles Missing Data – Can classify even with missing values.  \n",
        "- Works well for Text Classification – Used in spam filtering, sentiment analysis.  \n",
        "- Multi-class Support – Can classify multiple categories.  \n",
        "\n",
        "## Disadvantages:  \n",
        "- Feature Independence Assumption – Assumes all features are independent, which is often unrealistic.  \n",
        "- Poor with Correlated Features – Doesn’t handle dependent features well.  \n",
        "- Zero Probability Issue – If a category has no training data, probability becomes zero (can be fixed with smoothing).  \n",
        "- Not Always Accurate – Can be outperformed by more complex models.  \n",
        "\n",
        "Best Use Cases: Spam filtering, sentiment analysis, medical diagnosis.  \n"
      ],
      "metadata": {
        "id": "dOahyo2PKyOD"
      }
    },
    {
      "cell_type": "markdown",
      "source": [
        "**18) Why is Naïve Bayes a good choice for text classification?**"
      ],
      "metadata": {
        "id": "_F44tt81K23r"
      }
    },
    {
      "cell_type": "markdown",
      "source": [
        "# Why Naïve Bayes is Good for Text Classification  \n",
        "\n",
        "1. **Handles High-Dimensional Data** – Works well with large vocabulary sizes.  \n",
        "2. **Fast and Efficient** – Requires less training time.  \n",
        "3. **Performs Well with Small Data** – Can classify even with limited training data.  \n",
        "4. **Handles Missing Data** – Works even if some words are missing.  \n",
        "5. **Works Well for Spam Detection & Sentiment Analysis** – Used widely in NLP tasks.  \n",
        "\n",
        "Best for applications like email spam filtering and document classification.  \n"
      ],
      "metadata": {
        "id": "vllTi1gmK8Q9"
      }
    },
    {
      "cell_type": "markdown",
      "source": [
        "**19) Compare SVM and Naïve Bayes for classification tasks.**"
      ],
      "metadata": {
        "id": "bluEytWzLA_a"
      }
    },
    {
      "cell_type": "markdown",
      "source": [
        "# Comparison of SVM and Naïve Bayes for Classification  \n",
        "\n",
        "| Feature            | SVM                           | Naïve Bayes                     |\n",
        "|-------------------|-----------------------------|--------------------------------|\n",
        "| **Assumption**    | Data is linearly separable  | Features are independent       |\n",
        "| **Performance**   | Better for complex patterns | Works well for simple patterns |\n",
        "| **Speed**         | Slower on large datasets    | Fast and efficient             |\n",
        "| **Robustness**    | Handles correlated features | Struggles with correlated features |\n",
        "| **Best for**      | Image, bioinformatics       | Text classification, spam filtering |\n",
        "\n",
        "SVM is better for complex relationships, while Naïve Bayes is faster and works well for text data.  \n"
      ],
      "metadata": {
        "id": "rrMTkUDFLG56"
      }
    },
    {
      "cell_type": "markdown",
      "source": [
        "**20) How does Laplace Smoothing help in Naïve Bayes?**"
      ],
      "metadata": {
        "id": "SooFJFttLLpM"
      }
    },
    {
      "cell_type": "markdown",
      "source": [
        "# How Laplace Smoothing Helps in Naïve Bayes  \n",
        "\n",
        "## Problem:  \n",
        "If a category has no training data for a word, its probability becomes zero, making classification impossible.  \n",
        "\n",
        "## Solution:  \n",
        "Laplace Smoothing adds a small value (usually 1) to all word counts to prevent zero probabilities.  \n",
        "\n",
        "### Formula:  \n",
        "P(word | class) = (count(word in class) + 1) / (total words in class + V)  \n",
        "Where V = total unique words in all classes.  \n",
        "\n",
        "## Benefit:  \n",
        "Ensures no probability is ever zero, making the model more robust.  \n"
      ],
      "metadata": {
        "id": "g4k__9LBLSNi"
      }
    },
    {
      "cell_type": "markdown",
      "source": [
        "#Practical"
      ],
      "metadata": {
        "id": "k4v3UkrdLkpJ"
      }
    },
    {
      "cell_type": "markdown",
      "source": [
        "**1) Write a Python program to train an SVM Classifier on the Iris dataset and evaluate accuracy.**"
      ],
      "metadata": {
        "id": "9S-yu8M6LqBS"
      }
    },
    {
      "cell_type": "code",
      "source": [
        "from sklearn import datasets\n",
        "from sklearn.model_selection import train_test_split\n",
        "from sklearn.svm import SVC\n",
        "from sklearn.metrics import accuracy_score"
      ],
      "metadata": {
        "id": "xUbbK-8yG_QJ"
      },
      "execution_count": 1,
      "outputs": []
    },
    {
      "cell_type": "code",
      "source": [
        "# Load dataset\n",
        "iris = datasets.load_iris()\n",
        "X, y = iris.data, iris.target"
      ],
      "metadata": {
        "id": "8qw9VZ3qG_TV"
      },
      "execution_count": 2,
      "outputs": []
    },
    {
      "cell_type": "code",
      "source": [
        "# Split data\n",
        "X_train, X_test, y_train, y_test = train_test_split(X, y, test_size=0.2, random_state=42)"
      ],
      "metadata": {
        "id": "3VOv7SbYG_WW"
      },
      "execution_count": 3,
      "outputs": []
    },
    {
      "cell_type": "code",
      "source": [
        "# Train SVM classifier\n",
        "model = SVC(kernel='linear')\n",
        "model.fit(X_train, y_train)"
      ],
      "metadata": {
        "colab": {
          "base_uri": "https://localhost:8080/",
          "height": 80
        },
        "id": "7g6MRq-LG_ZI",
        "outputId": "2e5e03ed-e887-4328-e162-fb32d5a16488"
      },
      "execution_count": 4,
      "outputs": [
        {
          "output_type": "execute_result",
          "data": {
            "text/plain": [
              "SVC(kernel='linear')"
            ],
            "text/html": [
              "<style>#sk-container-id-1 {\n",
              "  /* Definition of color scheme common for light and dark mode */\n",
              "  --sklearn-color-text: #000;\n",
              "  --sklearn-color-text-muted: #666;\n",
              "  --sklearn-color-line: gray;\n",
              "  /* Definition of color scheme for unfitted estimators */\n",
              "  --sklearn-color-unfitted-level-0: #fff5e6;\n",
              "  --sklearn-color-unfitted-level-1: #f6e4d2;\n",
              "  --sklearn-color-unfitted-level-2: #ffe0b3;\n",
              "  --sklearn-color-unfitted-level-3: chocolate;\n",
              "  /* Definition of color scheme for fitted estimators */\n",
              "  --sklearn-color-fitted-level-0: #f0f8ff;\n",
              "  --sklearn-color-fitted-level-1: #d4ebff;\n",
              "  --sklearn-color-fitted-level-2: #b3dbfd;\n",
              "  --sklearn-color-fitted-level-3: cornflowerblue;\n",
              "\n",
              "  /* Specific color for light theme */\n",
              "  --sklearn-color-text-on-default-background: var(--sg-text-color, var(--theme-code-foreground, var(--jp-content-font-color1, black)));\n",
              "  --sklearn-color-background: var(--sg-background-color, var(--theme-background, var(--jp-layout-color0, white)));\n",
              "  --sklearn-color-border-box: var(--sg-text-color, var(--theme-code-foreground, var(--jp-content-font-color1, black)));\n",
              "  --sklearn-color-icon: #696969;\n",
              "\n",
              "  @media (prefers-color-scheme: dark) {\n",
              "    /* Redefinition of color scheme for dark theme */\n",
              "    --sklearn-color-text-on-default-background: var(--sg-text-color, var(--theme-code-foreground, var(--jp-content-font-color1, white)));\n",
              "    --sklearn-color-background: var(--sg-background-color, var(--theme-background, var(--jp-layout-color0, #111)));\n",
              "    --sklearn-color-border-box: var(--sg-text-color, var(--theme-code-foreground, var(--jp-content-font-color1, white)));\n",
              "    --sklearn-color-icon: #878787;\n",
              "  }\n",
              "}\n",
              "\n",
              "#sk-container-id-1 {\n",
              "  color: var(--sklearn-color-text);\n",
              "}\n",
              "\n",
              "#sk-container-id-1 pre {\n",
              "  padding: 0;\n",
              "}\n",
              "\n",
              "#sk-container-id-1 input.sk-hidden--visually {\n",
              "  border: 0;\n",
              "  clip: rect(1px 1px 1px 1px);\n",
              "  clip: rect(1px, 1px, 1px, 1px);\n",
              "  height: 1px;\n",
              "  margin: -1px;\n",
              "  overflow: hidden;\n",
              "  padding: 0;\n",
              "  position: absolute;\n",
              "  width: 1px;\n",
              "}\n",
              "\n",
              "#sk-container-id-1 div.sk-dashed-wrapped {\n",
              "  border: 1px dashed var(--sklearn-color-line);\n",
              "  margin: 0 0.4em 0.5em 0.4em;\n",
              "  box-sizing: border-box;\n",
              "  padding-bottom: 0.4em;\n",
              "  background-color: var(--sklearn-color-background);\n",
              "}\n",
              "\n",
              "#sk-container-id-1 div.sk-container {\n",
              "  /* jupyter's `normalize.less` sets `[hidden] { display: none; }`\n",
              "     but bootstrap.min.css set `[hidden] { display: none !important; }`\n",
              "     so we also need the `!important` here to be able to override the\n",
              "     default hidden behavior on the sphinx rendered scikit-learn.org.\n",
              "     See: https://github.com/scikit-learn/scikit-learn/issues/21755 */\n",
              "  display: inline-block !important;\n",
              "  position: relative;\n",
              "}\n",
              "\n",
              "#sk-container-id-1 div.sk-text-repr-fallback {\n",
              "  display: none;\n",
              "}\n",
              "\n",
              "div.sk-parallel-item,\n",
              "div.sk-serial,\n",
              "div.sk-item {\n",
              "  /* draw centered vertical line to link estimators */\n",
              "  background-image: linear-gradient(var(--sklearn-color-text-on-default-background), var(--sklearn-color-text-on-default-background));\n",
              "  background-size: 2px 100%;\n",
              "  background-repeat: no-repeat;\n",
              "  background-position: center center;\n",
              "}\n",
              "\n",
              "/* Parallel-specific style estimator block */\n",
              "\n",
              "#sk-container-id-1 div.sk-parallel-item::after {\n",
              "  content: \"\";\n",
              "  width: 100%;\n",
              "  border-bottom: 2px solid var(--sklearn-color-text-on-default-background);\n",
              "  flex-grow: 1;\n",
              "}\n",
              "\n",
              "#sk-container-id-1 div.sk-parallel {\n",
              "  display: flex;\n",
              "  align-items: stretch;\n",
              "  justify-content: center;\n",
              "  background-color: var(--sklearn-color-background);\n",
              "  position: relative;\n",
              "}\n",
              "\n",
              "#sk-container-id-1 div.sk-parallel-item {\n",
              "  display: flex;\n",
              "  flex-direction: column;\n",
              "}\n",
              "\n",
              "#sk-container-id-1 div.sk-parallel-item:first-child::after {\n",
              "  align-self: flex-end;\n",
              "  width: 50%;\n",
              "}\n",
              "\n",
              "#sk-container-id-1 div.sk-parallel-item:last-child::after {\n",
              "  align-self: flex-start;\n",
              "  width: 50%;\n",
              "}\n",
              "\n",
              "#sk-container-id-1 div.sk-parallel-item:only-child::after {\n",
              "  width: 0;\n",
              "}\n",
              "\n",
              "/* Serial-specific style estimator block */\n",
              "\n",
              "#sk-container-id-1 div.sk-serial {\n",
              "  display: flex;\n",
              "  flex-direction: column;\n",
              "  align-items: center;\n",
              "  background-color: var(--sklearn-color-background);\n",
              "  padding-right: 1em;\n",
              "  padding-left: 1em;\n",
              "}\n",
              "\n",
              "\n",
              "/* Toggleable style: style used for estimator/Pipeline/ColumnTransformer box that is\n",
              "clickable and can be expanded/collapsed.\n",
              "- Pipeline and ColumnTransformer use this feature and define the default style\n",
              "- Estimators will overwrite some part of the style using the `sk-estimator` class\n",
              "*/\n",
              "\n",
              "/* Pipeline and ColumnTransformer style (default) */\n",
              "\n",
              "#sk-container-id-1 div.sk-toggleable {\n",
              "  /* Default theme specific background. It is overwritten whether we have a\n",
              "  specific estimator or a Pipeline/ColumnTransformer */\n",
              "  background-color: var(--sklearn-color-background);\n",
              "}\n",
              "\n",
              "/* Toggleable label */\n",
              "#sk-container-id-1 label.sk-toggleable__label {\n",
              "  cursor: pointer;\n",
              "  display: flex;\n",
              "  width: 100%;\n",
              "  margin-bottom: 0;\n",
              "  padding: 0.5em;\n",
              "  box-sizing: border-box;\n",
              "  text-align: center;\n",
              "  align-items: start;\n",
              "  justify-content: space-between;\n",
              "  gap: 0.5em;\n",
              "}\n",
              "\n",
              "#sk-container-id-1 label.sk-toggleable__label .caption {\n",
              "  font-size: 0.6rem;\n",
              "  font-weight: lighter;\n",
              "  color: var(--sklearn-color-text-muted);\n",
              "}\n",
              "\n",
              "#sk-container-id-1 label.sk-toggleable__label-arrow:before {\n",
              "  /* Arrow on the left of the label */\n",
              "  content: \"▸\";\n",
              "  float: left;\n",
              "  margin-right: 0.25em;\n",
              "  color: var(--sklearn-color-icon);\n",
              "}\n",
              "\n",
              "#sk-container-id-1 label.sk-toggleable__label-arrow:hover:before {\n",
              "  color: var(--sklearn-color-text);\n",
              "}\n",
              "\n",
              "/* Toggleable content - dropdown */\n",
              "\n",
              "#sk-container-id-1 div.sk-toggleable__content {\n",
              "  max-height: 0;\n",
              "  max-width: 0;\n",
              "  overflow: hidden;\n",
              "  text-align: left;\n",
              "  /* unfitted */\n",
              "  background-color: var(--sklearn-color-unfitted-level-0);\n",
              "}\n",
              "\n",
              "#sk-container-id-1 div.sk-toggleable__content.fitted {\n",
              "  /* fitted */\n",
              "  background-color: var(--sklearn-color-fitted-level-0);\n",
              "}\n",
              "\n",
              "#sk-container-id-1 div.sk-toggleable__content pre {\n",
              "  margin: 0.2em;\n",
              "  border-radius: 0.25em;\n",
              "  color: var(--sklearn-color-text);\n",
              "  /* unfitted */\n",
              "  background-color: var(--sklearn-color-unfitted-level-0);\n",
              "}\n",
              "\n",
              "#sk-container-id-1 div.sk-toggleable__content.fitted pre {\n",
              "  /* unfitted */\n",
              "  background-color: var(--sklearn-color-fitted-level-0);\n",
              "}\n",
              "\n",
              "#sk-container-id-1 input.sk-toggleable__control:checked~div.sk-toggleable__content {\n",
              "  /* Expand drop-down */\n",
              "  max-height: 200px;\n",
              "  max-width: 100%;\n",
              "  overflow: auto;\n",
              "}\n",
              "\n",
              "#sk-container-id-1 input.sk-toggleable__control:checked~label.sk-toggleable__label-arrow:before {\n",
              "  content: \"▾\";\n",
              "}\n",
              "\n",
              "/* Pipeline/ColumnTransformer-specific style */\n",
              "\n",
              "#sk-container-id-1 div.sk-label input.sk-toggleable__control:checked~label.sk-toggleable__label {\n",
              "  color: var(--sklearn-color-text);\n",
              "  background-color: var(--sklearn-color-unfitted-level-2);\n",
              "}\n",
              "\n",
              "#sk-container-id-1 div.sk-label.fitted input.sk-toggleable__control:checked~label.sk-toggleable__label {\n",
              "  background-color: var(--sklearn-color-fitted-level-2);\n",
              "}\n",
              "\n",
              "/* Estimator-specific style */\n",
              "\n",
              "/* Colorize estimator box */\n",
              "#sk-container-id-1 div.sk-estimator input.sk-toggleable__control:checked~label.sk-toggleable__label {\n",
              "  /* unfitted */\n",
              "  background-color: var(--sklearn-color-unfitted-level-2);\n",
              "}\n",
              "\n",
              "#sk-container-id-1 div.sk-estimator.fitted input.sk-toggleable__control:checked~label.sk-toggleable__label {\n",
              "  /* fitted */\n",
              "  background-color: var(--sklearn-color-fitted-level-2);\n",
              "}\n",
              "\n",
              "#sk-container-id-1 div.sk-label label.sk-toggleable__label,\n",
              "#sk-container-id-1 div.sk-label label {\n",
              "  /* The background is the default theme color */\n",
              "  color: var(--sklearn-color-text-on-default-background);\n",
              "}\n",
              "\n",
              "/* On hover, darken the color of the background */\n",
              "#sk-container-id-1 div.sk-label:hover label.sk-toggleable__label {\n",
              "  color: var(--sklearn-color-text);\n",
              "  background-color: var(--sklearn-color-unfitted-level-2);\n",
              "}\n",
              "\n",
              "/* Label box, darken color on hover, fitted */\n",
              "#sk-container-id-1 div.sk-label.fitted:hover label.sk-toggleable__label.fitted {\n",
              "  color: var(--sklearn-color-text);\n",
              "  background-color: var(--sklearn-color-fitted-level-2);\n",
              "}\n",
              "\n",
              "/* Estimator label */\n",
              "\n",
              "#sk-container-id-1 div.sk-label label {\n",
              "  font-family: monospace;\n",
              "  font-weight: bold;\n",
              "  display: inline-block;\n",
              "  line-height: 1.2em;\n",
              "}\n",
              "\n",
              "#sk-container-id-1 div.sk-label-container {\n",
              "  text-align: center;\n",
              "}\n",
              "\n",
              "/* Estimator-specific */\n",
              "#sk-container-id-1 div.sk-estimator {\n",
              "  font-family: monospace;\n",
              "  border: 1px dotted var(--sklearn-color-border-box);\n",
              "  border-radius: 0.25em;\n",
              "  box-sizing: border-box;\n",
              "  margin-bottom: 0.5em;\n",
              "  /* unfitted */\n",
              "  background-color: var(--sklearn-color-unfitted-level-0);\n",
              "}\n",
              "\n",
              "#sk-container-id-1 div.sk-estimator.fitted {\n",
              "  /* fitted */\n",
              "  background-color: var(--sklearn-color-fitted-level-0);\n",
              "}\n",
              "\n",
              "/* on hover */\n",
              "#sk-container-id-1 div.sk-estimator:hover {\n",
              "  /* unfitted */\n",
              "  background-color: var(--sklearn-color-unfitted-level-2);\n",
              "}\n",
              "\n",
              "#sk-container-id-1 div.sk-estimator.fitted:hover {\n",
              "  /* fitted */\n",
              "  background-color: var(--sklearn-color-fitted-level-2);\n",
              "}\n",
              "\n",
              "/* Specification for estimator info (e.g. \"i\" and \"?\") */\n",
              "\n",
              "/* Common style for \"i\" and \"?\" */\n",
              "\n",
              ".sk-estimator-doc-link,\n",
              "a:link.sk-estimator-doc-link,\n",
              "a:visited.sk-estimator-doc-link {\n",
              "  float: right;\n",
              "  font-size: smaller;\n",
              "  line-height: 1em;\n",
              "  font-family: monospace;\n",
              "  background-color: var(--sklearn-color-background);\n",
              "  border-radius: 1em;\n",
              "  height: 1em;\n",
              "  width: 1em;\n",
              "  text-decoration: none !important;\n",
              "  margin-left: 0.5em;\n",
              "  text-align: center;\n",
              "  /* unfitted */\n",
              "  border: var(--sklearn-color-unfitted-level-1) 1pt solid;\n",
              "  color: var(--sklearn-color-unfitted-level-1);\n",
              "}\n",
              "\n",
              ".sk-estimator-doc-link.fitted,\n",
              "a:link.sk-estimator-doc-link.fitted,\n",
              "a:visited.sk-estimator-doc-link.fitted {\n",
              "  /* fitted */\n",
              "  border: var(--sklearn-color-fitted-level-1) 1pt solid;\n",
              "  color: var(--sklearn-color-fitted-level-1);\n",
              "}\n",
              "\n",
              "/* On hover */\n",
              "div.sk-estimator:hover .sk-estimator-doc-link:hover,\n",
              ".sk-estimator-doc-link:hover,\n",
              "div.sk-label-container:hover .sk-estimator-doc-link:hover,\n",
              ".sk-estimator-doc-link:hover {\n",
              "  /* unfitted */\n",
              "  background-color: var(--sklearn-color-unfitted-level-3);\n",
              "  color: var(--sklearn-color-background);\n",
              "  text-decoration: none;\n",
              "}\n",
              "\n",
              "div.sk-estimator.fitted:hover .sk-estimator-doc-link.fitted:hover,\n",
              ".sk-estimator-doc-link.fitted:hover,\n",
              "div.sk-label-container:hover .sk-estimator-doc-link.fitted:hover,\n",
              ".sk-estimator-doc-link.fitted:hover {\n",
              "  /* fitted */\n",
              "  background-color: var(--sklearn-color-fitted-level-3);\n",
              "  color: var(--sklearn-color-background);\n",
              "  text-decoration: none;\n",
              "}\n",
              "\n",
              "/* Span, style for the box shown on hovering the info icon */\n",
              ".sk-estimator-doc-link span {\n",
              "  display: none;\n",
              "  z-index: 9999;\n",
              "  position: relative;\n",
              "  font-weight: normal;\n",
              "  right: .2ex;\n",
              "  padding: .5ex;\n",
              "  margin: .5ex;\n",
              "  width: min-content;\n",
              "  min-width: 20ex;\n",
              "  max-width: 50ex;\n",
              "  color: var(--sklearn-color-text);\n",
              "  box-shadow: 2pt 2pt 4pt #999;\n",
              "  /* unfitted */\n",
              "  background: var(--sklearn-color-unfitted-level-0);\n",
              "  border: .5pt solid var(--sklearn-color-unfitted-level-3);\n",
              "}\n",
              "\n",
              ".sk-estimator-doc-link.fitted span {\n",
              "  /* fitted */\n",
              "  background: var(--sklearn-color-fitted-level-0);\n",
              "  border: var(--sklearn-color-fitted-level-3);\n",
              "}\n",
              "\n",
              ".sk-estimator-doc-link:hover span {\n",
              "  display: block;\n",
              "}\n",
              "\n",
              "/* \"?\"-specific style due to the `<a>` HTML tag */\n",
              "\n",
              "#sk-container-id-1 a.estimator_doc_link {\n",
              "  float: right;\n",
              "  font-size: 1rem;\n",
              "  line-height: 1em;\n",
              "  font-family: monospace;\n",
              "  background-color: var(--sklearn-color-background);\n",
              "  border-radius: 1rem;\n",
              "  height: 1rem;\n",
              "  width: 1rem;\n",
              "  text-decoration: none;\n",
              "  /* unfitted */\n",
              "  color: var(--sklearn-color-unfitted-level-1);\n",
              "  border: var(--sklearn-color-unfitted-level-1) 1pt solid;\n",
              "}\n",
              "\n",
              "#sk-container-id-1 a.estimator_doc_link.fitted {\n",
              "  /* fitted */\n",
              "  border: var(--sklearn-color-fitted-level-1) 1pt solid;\n",
              "  color: var(--sklearn-color-fitted-level-1);\n",
              "}\n",
              "\n",
              "/* On hover */\n",
              "#sk-container-id-1 a.estimator_doc_link:hover {\n",
              "  /* unfitted */\n",
              "  background-color: var(--sklearn-color-unfitted-level-3);\n",
              "  color: var(--sklearn-color-background);\n",
              "  text-decoration: none;\n",
              "}\n",
              "\n",
              "#sk-container-id-1 a.estimator_doc_link.fitted:hover {\n",
              "  /* fitted */\n",
              "  background-color: var(--sklearn-color-fitted-level-3);\n",
              "}\n",
              "</style><div id=\"sk-container-id-1\" class=\"sk-top-container\"><div class=\"sk-text-repr-fallback\"><pre>SVC(kernel=&#x27;linear&#x27;)</pre><b>In a Jupyter environment, please rerun this cell to show the HTML representation or trust the notebook. <br />On GitHub, the HTML representation is unable to render, please try loading this page with nbviewer.org.</b></div><div class=\"sk-container\" hidden><div class=\"sk-item\"><div class=\"sk-estimator fitted sk-toggleable\"><input class=\"sk-toggleable__control sk-hidden--visually\" id=\"sk-estimator-id-1\" type=\"checkbox\" checked><label for=\"sk-estimator-id-1\" class=\"sk-toggleable__label fitted sk-toggleable__label-arrow\"><div><div>SVC</div></div><div><a class=\"sk-estimator-doc-link fitted\" rel=\"noreferrer\" target=\"_blank\" href=\"https://scikit-learn.org/1.6/modules/generated/sklearn.svm.SVC.html\">?<span>Documentation for SVC</span></a><span class=\"sk-estimator-doc-link fitted\">i<span>Fitted</span></span></div></label><div class=\"sk-toggleable__content fitted\"><pre>SVC(kernel=&#x27;linear&#x27;)</pre></div> </div></div></div></div>"
            ]
          },
          "metadata": {},
          "execution_count": 4
        }
      ]
    },
    {
      "cell_type": "code",
      "source": [
        "# Predict and evaluate\n",
        "y_pred = model.predict(X_test)\n",
        "accuracy = accuracy_score(y_test, y_pred)"
      ],
      "metadata": {
        "id": "ur7fNukqG_cB"
      },
      "execution_count": 5,
      "outputs": []
    },
    {
      "cell_type": "code",
      "source": [
        "print(\"Model Accuracy:\", accuracy)"
      ],
      "metadata": {
        "colab": {
          "base_uri": "https://localhost:8080/"
        },
        "id": "WuhQkKVbG_er",
        "outputId": "b34fcedd-a25d-4122-d4fc-0621a8793632"
      },
      "execution_count": 6,
      "outputs": [
        {
          "output_type": "stream",
          "name": "stdout",
          "text": [
            "Model Accuracy: 1.0\n"
          ]
        }
      ]
    },
    {
      "cell_type": "markdown",
      "source": [
        "**2) Write a Python program to train two SVM classifiers with Linear and RBF kernels on the Wine dataset, then\n",
        "compare their accuracies.**"
      ],
      "metadata": {
        "id": "WazEqCkJMCSs"
      }
    },
    {
      "cell_type": "code",
      "source": [
        "# Load dataset\n",
        "wine = datasets.load_wine()\n",
        "X, y = wine.data, wine.target\n",
        "X_train, X_test, y_train, y_test = train_test_split(X, y, test_size=0.2, random_state=42)"
      ],
      "metadata": {
        "id": "q9Iyxnk6G_hi"
      },
      "execution_count": 7,
      "outputs": []
    },
    {
      "cell_type": "code",
      "source": [
        "# Train SVM with Linear and RBF kernels\n",
        "model_linear = SVC(kernel='linear').fit(X_train, y_train)\n",
        "model_rbf = SVC(kernel='rbf').fit(X_train, y_train)"
      ],
      "metadata": {
        "id": "PciarvDqG_k6"
      },
      "execution_count": 8,
      "outputs": []
    },
    {
      "cell_type": "code",
      "source": [
        "# Predict and compare accuracies\n",
        "acc_linear = accuracy_score(y_test, model_linear.predict(X_test))\n",
        "acc_rbf = accuracy_score(y_test, model_rbf.predict(X_test))"
      ],
      "metadata": {
        "id": "FZuIu4HoG_n-"
      },
      "execution_count": 9,
      "outputs": []
    },
    {
      "cell_type": "code",
      "source": [
        "print(\"Linear Kernel Accuracy:\", acc_linear)\n",
        "print(\"RBF Kernel Accuracy:\", acc_rbf)"
      ],
      "metadata": {
        "colab": {
          "base_uri": "https://localhost:8080/"
        },
        "id": "uEihk4WpG_ra",
        "outputId": "e93509e5-91bd-4943-eb37-35cab68a4a79"
      },
      "execution_count": 10,
      "outputs": [
        {
          "output_type": "stream",
          "name": "stdout",
          "text": [
            "Linear Kernel Accuracy: 1.0\n",
            "RBF Kernel Accuracy: 0.8055555555555556\n"
          ]
        }
      ]
    },
    {
      "cell_type": "markdown",
      "source": [
        "**3) Write a Python program to train an SVM Regressor (SVR) on a housing dataset and evaluate it using Mean\n",
        "Squared Error (MSE).**"
      ],
      "metadata": {
        "id": "UNK4ThIgMdbV"
      }
    },
    {
      "cell_type": "code",
      "source": [
        "from sklearn.svm import SVR\n",
        "from sklearn.metrics import mean_squared_error"
      ],
      "metadata": {
        "id": "QlqvUeJfG_uk"
      },
      "execution_count": 11,
      "outputs": []
    },
    {
      "cell_type": "code",
      "source": [
        "# Train SVR model\n",
        "model_svr = SVR().fit(X_train, y_train)"
      ],
      "metadata": {
        "id": "24J8wfjxG_xn"
      },
      "execution_count": 12,
      "outputs": []
    },
    {
      "cell_type": "code",
      "source": [
        "# Predict and evaluate\n",
        "y_pred = model_svr.predict(X_test)\n",
        "print(\"MSE:\", mean_squared_error(y_test, y_pred))"
      ],
      "metadata": {
        "colab": {
          "base_uri": "https://localhost:8080/"
        },
        "id": "DtUk1aZbG_0z",
        "outputId": "b123741b-32a7-49bc-ada4-03f5400fb4e7"
      },
      "execution_count": 13,
      "outputs": [
        {
          "output_type": "stream",
          "name": "stdout",
          "text": [
            "MSE: 0.25874486529139634\n"
          ]
        }
      ]
    },
    {
      "cell_type": "markdown",
      "source": [
        "**4) Write a Python program to train an SVM Classifier with a Polynomial Kernel and visualize the decision\n",
        "boundary.**"
      ],
      "metadata": {
        "id": "-x2gCQ17Msg2"
      }
    },
    {
      "cell_type": "code",
      "source": [
        "import numpy as np\n",
        "import matplotlib.pyplot as plt\n",
        "from sklearn.svm import SVC"
      ],
      "metadata": {
        "id": "UnfXwiE0G_4C"
      },
      "execution_count": 14,
      "outputs": []
    },
    {
      "cell_type": "code",
      "source": [
        "# Train SVM with Polynomial Kernel\n",
        "model_poly = SVC(kernel='poly', degree=3).fit(X_train[:, :2], y_train)  # Using first two features for visualization"
      ],
      "metadata": {
        "id": "Q5w00oogG_7C"
      },
      "execution_count": 15,
      "outputs": []
    },
    {
      "cell_type": "code",
      "source": [
        "# Create grid for plotting\n",
        "x_min, x_max = X_train[:, 0].min() - 1, X_train[:, 0].max() + 1\n",
        "y_min, y_max = X_train[:, 1].min() - 1, X_train[:, 1].max() + 1\n",
        "xx, yy = np.meshgrid(np.linspace(x_min, x_max, 100), np.linspace(y_min, y_max, 100))"
      ],
      "metadata": {
        "id": "V5zSc4M8G_-H"
      },
      "execution_count": 16,
      "outputs": []
    },
    {
      "cell_type": "code",
      "source": [
        "# Predict for each point in the grid\n",
        "Z = model_poly.predict(np.c_[xx.ravel(), yy.ravel()]).reshape(xx.shape)"
      ],
      "metadata": {
        "id": "J_Cb0gikHABf"
      },
      "execution_count": 17,
      "outputs": []
    },
    {
      "cell_type": "code",
      "source": [
        "# Plot decision boundary\n",
        "plt.contourf(xx, yy, Z, alpha=0.3)\n",
        "plt.scatter(X_train[:, 0], X_train[:, 1], c=y_train, edgecolors='k')\n",
        "plt.title(\"SVM with Polynomial Kernel\")\n",
        "plt.show()\n"
      ],
      "metadata": {
        "colab": {
          "base_uri": "https://localhost:8080/",
          "height": 452
        },
        "id": "cMqY3VEGM3cb",
        "outputId": "79d06f9c-376a-4ea1-9e81-4789dfd22238"
      },
      "execution_count": 18,
      "outputs": [
        {
          "output_type": "display_data",
          "data": {
            "text/plain": [
              "<Figure size 640x480 with 1 Axes>"
            ],
            "image/png": "[encoded data removed]"
          },
          "metadata": {}
        }
      ]
    },
    {
      "cell_type": "markdown",
      "source": [
        "**5) Write a Python program to train a Gaussian Naïve Bayes classifier on the Breast Cancer dataset and\n",
        "evaluate accuracy.**"
      ],
      "metadata": {
        "id": "FrnXqB85NDSV"
      }
    },
    {
      "cell_type": "code",
      "source": [
        "from sklearn.naive_bayes import GaussianNB\n",
        "from sklearn.metrics import accuracy_score"
      ],
      "metadata": {
        "id": "pduGf_sjM3fh"
      },
      "execution_count": 19,
      "outputs": []
    },
    {
      "cell_type": "code",
      "source": [
        "# Train Gaussian Naïve Bayes model\n",
        "model_gnb = GaussianNB().fit(X_train, y_train)"
      ],
      "metadata": {
        "id": "cwRiRMGhNCX-"
      },
      "execution_count": 20,
      "outputs": []
    },
    {
      "cell_type": "code",
      "source": [
        "# Predict and evaluate\n",
        "y_pred = model_gnb.predict(X_test)\n",
        "print(\"Accuracy:\", accuracy_score(y_test, y_pred))"
      ],
      "metadata": {
        "colab": {
          "base_uri": "https://localhost:8080/"
        },
        "id": "5RxfHBr-NCbT",
        "outputId": "5a7c0a7a-bfde-4a3e-960a-b338c3d49fda"
      },
      "execution_count": 21,
      "outputs": [
        {
          "output_type": "stream",
          "name": "stdout",
          "text": [
            "Accuracy: 1.0\n"
          ]
        }
      ]
    },
    {
      "cell_type": "markdown",
      "source": [
        "**6) Write a Python program to train a Multinomial Naïve Bayes classifier for text classification using the 20\n",
        "Newsgroups dataset.**"
      ],
      "metadata": {
        "id": "-4cC-YWYNTLD"
      }
    },
    {
      "cell_type": "code",
      "source": [
        "from sklearn.naive_bayes import MultinomialNB\n",
        "from sklearn.metrics import accuracy_score"
      ],
      "metadata": {
        "id": "Xn79z2V-NCef"
      },
      "execution_count": 22,
      "outputs": []
    },
    {
      "cell_type": "code",
      "source": [
        "# Train Multinomial Naïve Bayes model\n",
        "model_mnb = MultinomialNB().fit(X_train, y_train)"
      ],
      "metadata": {
        "id": "ecnBpcA1NCkZ"
      },
      "execution_count": 23,
      "outputs": []
    },
    {
      "cell_type": "code",
      "source": [
        "# Predict and evaluate\n",
        "y_pred = model_mnb.predict(X_test)\n",
        "print(\"Accuracy:\", accuracy_score(y_test, y_pred))"
      ],
      "metadata": {
        "colab": {
          "base_uri": "https://localhost:8080/"
        },
        "id": "6PSJGycyNCo0",
        "outputId": "4218fee3-d451-429c-d13f-ea55e822ffbb"
      },
      "execution_count": 24,
      "outputs": [
        {
          "output_type": "stream",
          "name": "stdout",
          "text": [
            "Accuracy: 0.8888888888888888\n"
          ]
        }
      ]
    },
    {
      "cell_type": "markdown",
      "source": [
        "**7) Write a Python program to train an SVM Classifier with different C values and compare the decision\n",
        "boundaries visually?**"
      ],
      "metadata": {
        "id": "I6nMeMtRvnD3"
      }
    },
    {
      "cell_type": "code",
      "source": [
        "import numpy as np\n",
        "import matplotlib.pyplot as plt\n",
        "from sklearn import datasets\n",
        "from sklearn.svm import SVC"
      ],
      "metadata": {
        "id": "OthoaNblM3ib"
      },
      "execution_count": 25,
      "outputs": []
    },
    {
      "cell_type": "code",
      "source": [
        "# Load dataset (only two classes and two features)\n",
        "iris = datasets.load_iris()\n",
        "X, y = iris.data[:100, :2], iris.target[:100]"
      ],
      "metadata": {
        "id": "gbXdSQSVvizb"
      },
      "execution_count": 26,
      "outputs": []
    },
    {
      "cell_type": "code",
      "source": [
        "# Train and plot for different C values\n",
        "C_values = [0.01, 1, 100]\n",
        "plt.figure(figsize=(15, 5))\n",
        "for i, C in enumerate(C_values):\n",
        "    clf = SVC(kernel='linear', C=C).fit(X, y)\n",
        "    x_min, x_max = X[:, 0].min()-1, X[:, 0].max()+1\n",
        "    y_min, y_max = X[:, 1].min()-1, X[:, 1].max()+1\n",
        "    xx, yy = np.meshgrid(np.linspace(x_min, x_max, 100), np.linspace(y_min, y_max, 100))\n",
        "    Z = clf.predict(np.c_[xx.ravel(), yy.ravel()]).reshape(xx.shape)\n",
        "    plt.subplot(1, 3, i + 1)\n",
        "    plt.contourf(xx, yy, Z, alpha=0.3)\n",
        "    plt.scatter(X[:, 0], X[:, 1], c=y, edgecolors='k')\n",
        "    plt.title(f'C={C}')\n",
        "plt.show()"
      ],
      "metadata": {
        "colab": {
          "base_uri": "https://localhost:8080/",
          "height": 468
        },
        "id": "dvxyfHSyvi2m",
        "outputId": "44e2c325-4bb6-45e7-f88e-2a0e3eb3564c"
      },
      "execution_count": 27,
      "outputs": [
        {
          "output_type": "display_data",
          "data": {
            "text/plain": [
              "<Figure size 1500x500 with 3 Axes>"
            ],
            "image/png": "[encoded data removed]"
          },
          "metadata": {}
        }
      ]
    },
    {
      "cell_type": "markdown",
      "source": [
        "**7) Write a Python program to train a Bernoulli Naïve Bayes classifier for binary classification on a dataset with\n",
        "binary features.**"
      ],
      "metadata": {
        "id": "zFnBVkmewEHU"
      }
    },
    {
      "cell_type": "code",
      "source": [
        "from sklearn.naive_bayes import BernoulliNB\n",
        "from sklearn.metrics import accuracy_score"
      ],
      "metadata": {
        "id": "QYgkssXKvi57"
      },
      "execution_count": 28,
      "outputs": []
    },
    {
      "cell_type": "code",
      "source": [
        "# Generate a simple binary dataset\n",
        "X = np.random.randint(2, size=(100, 5))  # 100 samples, 5 binary features\n",
        "y = np.random.randint(2, size=100)  # Binary labels"
      ],
      "metadata": {
        "id": "zLg0-UCRvi9P"
      },
      "execution_count": 29,
      "outputs": []
    },
    {
      "cell_type": "code",
      "source": [
        "# Train Bernoulli Naïve Bayes classifier\n",
        "clf = BernoulliNB().fit(X, y)\n",
        "y_pred = clf.predict(X)\n",
        "accuracy = accuracy_score(y, y_pred)\n",
        "print(f'Accuracy: {accuracy:.2f}')"
      ],
      "metadata": {
        "colab": {
          "base_uri": "https://localhost:8080/"
        },
        "id": "kniTTTjYvi_7",
        "outputId": "f8871eb7-47be-4eea-9722-e4cd130f7c56"
      },
      "execution_count": 30,
      "outputs": [
        {
          "output_type": "stream",
          "name": "stdout",
          "text": [
            "Accuracy: 0.59\n"
          ]
        }
      ]
    },
    {
      "cell_type": "markdown",
      "source": [
        "**8) Write a Python program to apply feature scaling before training an SVM model and compare results with\n",
        "unscaled data.**"
      ],
      "metadata": {
        "id": "c6HjsBEFwVC3"
      }
    },
    {
      "cell_type": "code",
      "source": [
        "from sklearn.preprocessing import StandardScaler\n",
        "# Load dataset\n",
        "X, y = datasets.load_iris(return_X_y=True)\n",
        "X, y = X[y < 2], y[y < 2]  # Binary classification\n",
        "X_train, X_test, y_train, y_test = train_test_split(X, y, test_size=0.2, random_state=42)\n"
      ],
      "metadata": {
        "id": "jJOoqyNXvjGi"
      },
      "execution_count": 34,
      "outputs": []
    },
    {
      "cell_type": "code",
      "source": [
        "# Train without scaling\n",
        "clf1 = SVC().fit(X_train, y_train)\n",
        "unscaled_acc = accuracy_score(y_test, clf1.predict(X_test))\n"
      ],
      "metadata": {
        "id": "H8KibgkzvjKd"
      },
      "execution_count": 35,
      "outputs": []
    },
    {
      "cell_type": "code",
      "source": [
        "# Train with scaling\n",
        "scaler = StandardScaler().fit(X_train)\n",
        "X_train_scaled, X_test_scaled = scaler.transform(X_train), scaler.transform(X_test)\n",
        "clf2 = SVC().fit(X_train_scaled, y_train)\n",
        "scaled_acc = accuracy_score(y_test, clf2.predict(X_test_scaled))"
      ],
      "metadata": {
        "id": "mWoVVOOcvjNj"
      },
      "execution_count": 36,
      "outputs": []
    },
    {
      "cell_type": "code",
      "source": [
        "print(f'Unscaled Accuracy: {unscaled_acc:.2f}')\n",
        "print(f'Scaled Accuracy: {scaled_acc:.2f}')"
      ],
      "metadata": {
        "colab": {
          "base_uri": "https://localhost:8080/"
        },
        "id": "sgau4fmxvjRW",
        "outputId": "750067ad-8fb4-4d26-bfa9-f57666997d67"
      },
      "execution_count": 37,
      "outputs": [
        {
          "output_type": "stream",
          "name": "stdout",
          "text": [
            "Unscaled Accuracy: 1.00\n",
            "Scaled Accuracy: 1.00\n"
          ]
        }
      ]
    },
    {
      "cell_type": "markdown",
      "source": [
        "**9) Write a Python program to train a Gaussian Naïve Bayes model and compare the predictions before and\n",
        "after Laplace Smoothing.**"
      ],
      "metadata": {
        "id": "FiHGrpooxDYs"
      }
    },
    {
      "cell_type": "code",
      "source": [
        "from sklearn.naive_bayes import GaussianNB\n",
        "from sklearn.metrics import accuracy_score"
      ],
      "metadata": {
        "id": "t7b5oB2BvjUL"
      },
      "execution_count": 38,
      "outputs": []
    },
    {
      "cell_type": "code",
      "source": [
        "# Generate a simple dataset\n",
        "X = np.random.rand(100, 5)  # 100 samples, 5 features\n",
        "y = np.random.randint(2, size=100)  # Binary labels"
      ],
      "metadata": {
        "id": "K-Pn91rNw6Gy"
      },
      "execution_count": 39,
      "outputs": []
    },
    {
      "cell_type": "code",
      "source": [
        "# Train without Laplace Smoothing\n",
        "clf1 = GaussianNB(var_smoothing=0).fit(X, y)\n",
        "y_pred1 = clf1.predict(X)\n",
        "acc1 = accuracy_score(y, y_pred1)"
      ],
      "metadata": {
        "id": "tyQHvNxaw6KH"
      },
      "execution_count": 40,
      "outputs": []
    },
    {
      "cell_type": "code",
      "source": [
        "# Train with Laplace Smoothing\n",
        "clf2 = GaussianNB().fit(X, y)\n",
        "y_pred2 = clf2.predict(X)\n",
        "acc2 = accuracy_score(y, y_pred2)"
      ],
      "metadata": {
        "id": "meEK0XTnw6Nq"
      },
      "execution_count": 41,
      "outputs": []
    },
    {
      "cell_type": "code",
      "source": [
        "print(f'Without Laplace Smoothing Accuracy: {acc1:.2f}')\n",
        "print(f'With Laplace Smoothing Accuracy: {acc2:.2f}')"
      ],
      "metadata": {
        "colab": {
          "base_uri": "https://localhost:8080/"
        },
        "id": "vQYxXXpew6Rl",
        "outputId": "4ed3a808-747b-431b-e164-001772b55229"
      },
      "execution_count": 42,
      "outputs": [
        {
          "output_type": "stream",
          "name": "stdout",
          "text": [
            "Without Laplace Smoothing Accuracy: 0.72\n",
            "With Laplace Smoothing Accuracy: 0.72\n"
          ]
        }
      ]
    },
    {
      "cell_type": "markdown",
      "source": [
        "**10) Write a Python program to train an SVM Classifier and use GridSearchCV to tune the hyperparameters (C,\n",
        "gamma, kernel).**"
      ],
      "metadata": {
        "id": "MNSBbf6kxcPm"
      }
    },
    {
      "cell_type": "code",
      "source": [
        "from sklearn import datasets\n",
        "from sklearn.svm import SVC\n",
        "from sklearn.model_selection import train_test_split, GridSearchCV"
      ],
      "metadata": {
        "id": "4SrjPOmGw6Tf"
      },
      "execution_count": 43,
      "outputs": []
    },
    {
      "cell_type": "code",
      "source": [
        "# Step 1: Load dataset\n",
        "X, y = datasets.load_iris(return_X_y=True)\n",
        "X, y = X[y < 2], y[y < 2]  # Binary classification"
      ],
      "metadata": {
        "id": "xKlKkXnRw6Wc"
      },
      "execution_count": 44,
      "outputs": []
    },
    {
      "cell_type": "code",
      "source": [
        "# Step 2: Split data\n",
        "X_train, X_test, y_train, y_test = train_test_split(X, y, test_size=0.2, random_state=42)"
      ],
      "metadata": {
        "id": "Vhj8nEvJw6Zj"
      },
      "execution_count": 45,
      "outputs": []
    },
    {
      "cell_type": "code",
      "source": [
        "# Step 3: Define SVM and hyperparameters\n",
        "param_grid = {'C': [0.1, 1, 10], 'gamma': [0.01, 0.1, 1], 'kernel': ['linear', 'rbf']}"
      ],
      "metadata": {
        "id": "HTQ3gILAw6c4"
      },
      "execution_count": 46,
      "outputs": []
    },
    {
      "cell_type": "code",
      "source": [
        "# Step 4: Use GridSearchCV\n",
        "clf = GridSearchCV(SVC(), param_grid, cv=3)\n",
        "clf.fit(X_train, y_train)"
      ],
      "metadata": {
        "colab": {
          "base_uri": "https://localhost:8080/",
          "height": 165
        },
        "id": "P7tJlZa0w6gS",
        "outputId": "3cb24704-18c6-42eb-c0f6-3c44e59307e7"
      },
      "execution_count": 47,
      "outputs": [
        {
          "output_type": "execute_result",
          "data": {
            "text/plain": [
              "GridSearchCV(cv=3, estimator=SVC(),\n",
              "             param_grid={'C': [0.1, 1, 10], 'gamma': [0.01, 0.1, 1],\n",
              "                         'kernel': ['linear', 'rbf']})"
            ],
            "text/html": [
              "<style>#sk-container-id-2 {\n",
              "  /* Definition of color scheme common for light and dark mode */\n",
              "  --sklearn-color-text: #000;\n",
              "  --sklearn-color-text-muted: #666;\n",
              "  --sklearn-color-line: gray;\n",
              "  /* Definition of color scheme for unfitted estimators */\n",
              "  --sklearn-color-unfitted-level-0: #fff5e6;\n",
              "  --sklearn-color-unfitted-level-1: #f6e4d2;\n",
              "  --sklearn-color-unfitted-level-2: #ffe0b3;\n",
              "  --sklearn-color-unfitted-level-3: chocolate;\n",
              "  /* Definition of color scheme for fitted estimators */\n",
              "  --sklearn-color-fitted-level-0: #f0f8ff;\n",
              "  --sklearn-color-fitted-level-1: #d4ebff;\n",
              "  --sklearn-color-fitted-level-2: #b3dbfd;\n",
              "  --sklearn-color-fitted-level-3: cornflowerblue;\n",
              "\n",
              "  /* Specific color for light theme */\n",
              "  --sklearn-color-text-on-default-background: var(--sg-text-color, var(--theme-code-foreground, var(--jp-content-font-color1, black)));\n",
              "  --sklearn-color-background: var(--sg-background-color, var(--theme-background, var(--jp-layout-color0, white)));\n",
              "  --sklearn-color-border-box: var(--sg-text-color, var(--theme-code-foreground, var(--jp-content-font-color1, black)));\n",
              "  --sklearn-color-icon: #696969;\n",
              "\n",
              "  @media (prefers-color-scheme: dark) {\n",
              "    /* Redefinition of color scheme for dark theme */\n",
              "    --sklearn-color-text-on-default-background: var(--sg-text-color, var(--theme-code-foreground, var(--jp-content-font-color1, white)));\n",
              "    --sklearn-color-background: var(--sg-background-color, var(--theme-background, var(--jp-layout-color0, #111)));\n",
              "    --sklearn-color-border-box: var(--sg-text-color, var(--theme-code-foreground, var(--jp-content-font-color1, white)));\n",
              "    --sklearn-color-icon: #878787;\n",
              "  }\n",
              "}\n",
              "\n",
              "#sk-container-id-2 {\n",
              "  color: var(--sklearn-color-text);\n",
              "}\n",
              "\n",
              "#sk-container-id-2 pre {\n",
              "  padding: 0;\n",
              "}\n",
              "\n",
              "#sk-container-id-2 input.sk-hidden--visually {\n",
              "  border: 0;\n",
              "  clip: rect(1px 1px 1px 1px);\n",
              "  clip: rect(1px, 1px, 1px, 1px);\n",
              "  height: 1px;\n",
              "  margin: -1px;\n",
              "  overflow: hidden;\n",
              "  padding: 0;\n",
              "  position: absolute;\n",
              "  width: 1px;\n",
              "}\n",
              "\n",
              "#sk-container-id-2 div.sk-dashed-wrapped {\n",
              "  border: 1px dashed var(--sklearn-color-line);\n",
              "  margin: 0 0.4em 0.5em 0.4em;\n",
              "  box-sizing: border-box;\n",
              "  padding-bottom: 0.4em;\n",
              "  background-color: var(--sklearn-color-background);\n",
              "}\n",
              "\n",
              "#sk-container-id-2 div.sk-container {\n",
              "  /* jupyter's `normalize.less` sets `[hidden] { display: none; }`\n",
              "     but bootstrap.min.css set `[hidden] { display: none !important; }`\n",
              "     so we also need the `!important` here to be able to override the\n",
              "     default hidden behavior on the sphinx rendered scikit-learn.org.\n",
              "     See: https://github.com/scikit-learn/scikit-learn/issues/21755 */\n",
              "  display: inline-block !important;\n",
              "  position: relative;\n",
              "}\n",
              "\n",
              "#sk-container-id-2 div.sk-text-repr-fallback {\n",
              "  display: none;\n",
              "}\n",
              "\n",
              "div.sk-parallel-item,\n",
              "div.sk-serial,\n",
              "div.sk-item {\n",
              "  /* draw centered vertical line to link estimators */\n",
              "  background-image: linear-gradient(var(--sklearn-color-text-on-default-background), var(--sklearn-color-text-on-default-background));\n",
              "  background-size: 2px 100%;\n",
              "  background-repeat: no-repeat;\n",
              "  background-position: center center;\n",
              "}\n",
              "\n",
              "/* Parallel-specific style estimator block */\n",
              "\n",
              "#sk-container-id-2 div.sk-parallel-item::after {\n",
              "  content: \"\";\n",
              "  width: 100%;\n",
              "  border-bottom: 2px solid var(--sklearn-color-text-on-default-background);\n",
              "  flex-grow: 1;\n",
              "}\n",
              "\n",
              "#sk-container-id-2 div.sk-parallel {\n",
              "  display: flex;\n",
              "  align-items: stretch;\n",
              "  justify-content: center;\n",
              "  background-color: var(--sklearn-color-background);\n",
              "  position: relative;\n",
              "}\n",
              "\n",
              "#sk-container-id-2 div.sk-parallel-item {\n",
              "  display: flex;\n",
              "  flex-direction: column;\n",
              "}\n",
              "\n",
              "#sk-container-id-2 div.sk-parallel-item:first-child::after {\n",
              "  align-self: flex-end;\n",
              "  width: 50%;\n",
              "}\n",
              "\n",
              "#sk-container-id-2 div.sk-parallel-item:last-child::after {\n",
              "  align-self: flex-start;\n",
              "  width: 50%;\n",
              "}\n",
              "\n",
              "#sk-container-id-2 div.sk-parallel-item:only-child::after {\n",
              "  width: 0;\n",
              "}\n",
              "\n",
              "/* Serial-specific style estimator block */\n",
              "\n",
              "#sk-container-id-2 div.sk-serial {\n",
              "  display: flex;\n",
              "  flex-direction: column;\n",
              "  align-items: center;\n",
              "  background-color: var(--sklearn-color-background);\n",
              "  padding-right: 1em;\n",
              "  padding-left: 1em;\n",
              "}\n",
              "\n",
              "\n",
              "/* Toggleable style: style used for estimator/Pipeline/ColumnTransformer box that is\n",
              "clickable and can be expanded/collapsed.\n",
              "- Pipeline and ColumnTransformer use this feature and define the default style\n",
              "- Estimators will overwrite some part of the style using the `sk-estimator` class\n",
              "*/\n",
              "\n",
              "/* Pipeline and ColumnTransformer style (default) */\n",
              "\n",
              "#sk-container-id-2 div.sk-toggleable {\n",
              "  /* Default theme specific background. It is overwritten whether we have a\n",
              "  specific estimator or a Pipeline/ColumnTransformer */\n",
              "  background-color: var(--sklearn-color-background);\n",
              "}\n",
              "\n",
              "/* Toggleable label */\n",
              "#sk-container-id-2 label.sk-toggleable__label {\n",
              "  cursor: pointer;\n",
              "  display: flex;\n",
              "  width: 100%;\n",
              "  margin-bottom: 0;\n",
              "  padding: 0.5em;\n",
              "  box-sizing: border-box;\n",
              "  text-align: center;\n",
              "  align-items: start;\n",
              "  justify-content: space-between;\n",
              "  gap: 0.5em;\n",
              "}\n",
              "\n",
              "#sk-container-id-2 label.sk-toggleable__label .caption {\n",
              "  font-size: 0.6rem;\n",
              "  font-weight: lighter;\n",
              "  color: var(--sklearn-color-text-muted);\n",
              "}\n",
              "\n",
              "#sk-container-id-2 label.sk-toggleable__label-arrow:before {\n",
              "  /* Arrow on the left of the label */\n",
              "  content: \"▸\";\n",
              "  float: left;\n",
              "  margin-right: 0.25em;\n",
              "  color: var(--sklearn-color-icon);\n",
              "}\n",
              "\n",
              "#sk-container-id-2 label.sk-toggleable__label-arrow:hover:before {\n",
              "  color: var(--sklearn-color-text);\n",
              "}\n",
              "\n",
              "/* Toggleable content - dropdown */\n",
              "\n",
              "#sk-container-id-2 div.sk-toggleable__content {\n",
              "  max-height: 0;\n",
              "  max-width: 0;\n",
              "  overflow: hidden;\n",
              "  text-align: left;\n",
              "  /* unfitted */\n",
              "  background-color: var(--sklearn-color-unfitted-level-0);\n",
              "}\n",
              "\n",
              "#sk-container-id-2 div.sk-toggleable__content.fitted {\n",
              "  /* fitted */\n",
              "  background-color: var(--sklearn-color-fitted-level-0);\n",
              "}\n",
              "\n",
              "#sk-container-id-2 div.sk-toggleable__content pre {\n",
              "  margin: 0.2em;\n",
              "  border-radius: 0.25em;\n",
              "  color: var(--sklearn-color-text);\n",
              "  /* unfitted */\n",
              "  background-color: var(--sklearn-color-unfitted-level-0);\n",
              "}\n",
              "\n",
              "#sk-container-id-2 div.sk-toggleable__content.fitted pre {\n",
              "  /* unfitted */\n",
              "  background-color: var(--sklearn-color-fitted-level-0);\n",
              "}\n",
              "\n",
              "#sk-container-id-2 input.sk-toggleable__control:checked~div.sk-toggleable__content {\n",
              "  /* Expand drop-down */\n",
              "  max-height: 200px;\n",
              "  max-width: 100%;\n",
              "  overflow: auto;\n",
              "}\n",
              "\n",
              "#sk-container-id-2 input.sk-toggleable__control:checked~label.sk-toggleable__label-arrow:before {\n",
              "  content: \"▾\";\n",
              "}\n",
              "\n",
              "/* Pipeline/ColumnTransformer-specific style */\n",
              "\n",
              "#sk-container-id-2 div.sk-label input.sk-toggleable__control:checked~label.sk-toggleable__label {\n",
              "  color: var(--sklearn-color-text);\n",
              "  background-color: var(--sklearn-color-unfitted-level-2);\n",
              "}\n",
              "\n",
              "#sk-container-id-2 div.sk-label.fitted input.sk-toggleable__control:checked~label.sk-toggleable__label {\n",
              "  background-color: var(--sklearn-color-fitted-level-2);\n",
              "}\n",
              "\n",
              "/* Estimator-specific style */\n",
              "\n",
              "/* Colorize estimator box */\n",
              "#sk-container-id-2 div.sk-estimator input.sk-toggleable__control:checked~label.sk-toggleable__label {\n",
              "  /* unfitted */\n",
              "  background-color: var(--sklearn-color-unfitted-level-2);\n",
              "}\n",
              "\n",
              "#sk-container-id-2 div.sk-estimator.fitted input.sk-toggleable__control:checked~label.sk-toggleable__label {\n",
              "  /* fitted */\n",
              "  background-color: var(--sklearn-color-fitted-level-2);\n",
              "}\n",
              "\n",
              "#sk-container-id-2 div.sk-label label.sk-toggleable__label,\n",
              "#sk-container-id-2 div.sk-label label {\n",
              "  /* The background is the default theme color */\n",
              "  color: var(--sklearn-color-text-on-default-background);\n",
              "}\n",
              "\n",
              "/* On hover, darken the color of the background */\n",
              "#sk-container-id-2 div.sk-label:hover label.sk-toggleable__label {\n",
              "  color: var(--sklearn-color-text);\n",
              "  background-color: var(--sklearn-color-unfitted-level-2);\n",
              "}\n",
              "\n",
              "/* Label box, darken color on hover, fitted */\n",
              "#sk-container-id-2 div.sk-label.fitted:hover label.sk-toggleable__label.fitted {\n",
              "  color: var(--sklearn-color-text);\n",
              "  background-color: var(--sklearn-color-fitted-level-2);\n",
              "}\n",
              "\n",
              "/* Estimator label */\n",
              "\n",
              "#sk-container-id-2 div.sk-label label {\n",
              "  font-family: monospace;\n",
              "  font-weight: bold;\n",
              "  display: inline-block;\n",
              "  line-height: 1.2em;\n",
              "}\n",
              "\n",
              "#sk-container-id-2 div.sk-label-container {\n",
              "  text-align: center;\n",
              "}\n",
              "\n",
              "/* Estimator-specific */\n",
              "#sk-container-id-2 div.sk-estimator {\n",
              "  font-family: monospace;\n",
              "  border: 1px dotted var(--sklearn-color-border-box);\n",
              "  border-radius: 0.25em;\n",
              "  box-sizing: border-box;\n",
              "  margin-bottom: 0.5em;\n",
              "  /* unfitted */\n",
              "  background-color: var(--sklearn-color-unfitted-level-0);\n",
              "}\n",
              "\n",
              "#sk-container-id-2 div.sk-estimator.fitted {\n",
              "  /* fitted */\n",
              "  background-color: var(--sklearn-color-fitted-level-0);\n",
              "}\n",
              "\n",
              "/* on hover */\n",
              "#sk-container-id-2 div.sk-estimator:hover {\n",
              "  /* unfitted */\n",
              "  background-color: var(--sklearn-color-unfitted-level-2);\n",
              "}\n",
              "\n",
              "#sk-container-id-2 div.sk-estimator.fitted:hover {\n",
              "  /* fitted */\n",
              "  background-color: var(--sklearn-color-fitted-level-2);\n",
              "}\n",
              "\n",
              "/* Specification for estimator info (e.g. \"i\" and \"?\") */\n",
              "\n",
              "/* Common style for \"i\" and \"?\" */\n",
              "\n",
              ".sk-estimator-doc-link,\n",
              "a:link.sk-estimator-doc-link,\n",
              "a:visited.sk-estimator-doc-link {\n",
              "  float: right;\n",
              "  font-size: smaller;\n",
              "  line-height: 1em;\n",
              "  font-family: monospace;\n",
              "  background-color: var(--sklearn-color-background);\n",
              "  border-radius: 1em;\n",
              "  height: 1em;\n",
              "  width: 1em;\n",
              "  text-decoration: none !important;\n",
              "  margin-left: 0.5em;\n",
              "  text-align: center;\n",
              "  /* unfitted */\n",
              "  border: var(--sklearn-color-unfitted-level-1) 1pt solid;\n",
              "  color: var(--sklearn-color-unfitted-level-1);\n",
              "}\n",
              "\n",
              ".sk-estimator-doc-link.fitted,\n",
              "a:link.sk-estimator-doc-link.fitted,\n",
              "a:visited.sk-estimator-doc-link.fitted {\n",
              "  /* fitted */\n",
              "  border: var(--sklearn-color-fitted-level-1) 1pt solid;\n",
              "  color: var(--sklearn-color-fitted-level-1);\n",
              "}\n",
              "\n",
              "/* On hover */\n",
              "div.sk-estimator:hover .sk-estimator-doc-link:hover,\n",
              ".sk-estimator-doc-link:hover,\n",
              "div.sk-label-container:hover .sk-estimator-doc-link:hover,\n",
              ".sk-estimator-doc-link:hover {\n",
              "  /* unfitted */\n",
              "  background-color: var(--sklearn-color-unfitted-level-3);\n",
              "  color: var(--sklearn-color-background);\n",
              "  text-decoration: none;\n",
              "}\n",
              "\n",
              "div.sk-estimator.fitted:hover .sk-estimator-doc-link.fitted:hover,\n",
              ".sk-estimator-doc-link.fitted:hover,\n",
              "div.sk-label-container:hover .sk-estimator-doc-link.fitted:hover,\n",
              ".sk-estimator-doc-link.fitted:hover {\n",
              "  /* fitted */\n",
              "  background-color: var(--sklearn-color-fitted-level-3);\n",
              "  color: var(--sklearn-color-background);\n",
              "  text-decoration: none;\n",
              "}\n",
              "\n",
              "/* Span, style for the box shown on hovering the info icon */\n",
              ".sk-estimator-doc-link span {\n",
              "  display: none;\n",
              "  z-index: 9999;\n",
              "  position: relative;\n",
              "  font-weight: normal;\n",
              "  right: .2ex;\n",
              "  padding: .5ex;\n",
              "  margin: .5ex;\n",
              "  width: min-content;\n",
              "  min-width: 20ex;\n",
              "  max-width: 50ex;\n",
              "  color: var(--sklearn-color-text);\n",
              "  box-shadow: 2pt 2pt 4pt #999;\n",
              "  /* unfitted */\n",
              "  background: var(--sklearn-color-unfitted-level-0);\n",
              "  border: .5pt solid var(--sklearn-color-unfitted-level-3);\n",
              "}\n",
              "\n",
              ".sk-estimator-doc-link.fitted span {\n",
              "  /* fitted */\n",
              "  background: var(--sklearn-color-fitted-level-0);\n",
              "  border: var(--sklearn-color-fitted-level-3);\n",
              "}\n",
              "\n",
              ".sk-estimator-doc-link:hover span {\n",
              "  display: block;\n",
              "}\n",
              "\n",
              "/* \"?\"-specific style due to the `<a>` HTML tag */\n",
              "\n",
              "#sk-container-id-2 a.estimator_doc_link {\n",
              "  float: right;\n",
              "  font-size: 1rem;\n",
              "  line-height: 1em;\n",
              "  font-family: monospace;\n",
              "  background-color: var(--sklearn-color-background);\n",
              "  border-radius: 1rem;\n",
              "  height: 1rem;\n",
              "  width: 1rem;\n",
              "  text-decoration: none;\n",
              "  /* unfitted */\n",
              "  color: var(--sklearn-color-unfitted-level-1);\n",
              "  border: var(--sklearn-color-unfitted-level-1) 1pt solid;\n",
              "}\n",
              "\n",
              "#sk-container-id-2 a.estimator_doc_link.fitted {\n",
              "  /* fitted */\n",
              "  border: var(--sklearn-color-fitted-level-1) 1pt solid;\n",
              "  color: var(--sklearn-color-fitted-level-1);\n",
              "}\n",
              "\n",
              "/* On hover */\n",
              "#sk-container-id-2 a.estimator_doc_link:hover {\n",
              "  /* unfitted */\n",
              "  background-color: var(--sklearn-color-unfitted-level-3);\n",
              "  color: var(--sklearn-color-background);\n",
              "  text-decoration: none;\n",
              "}\n",
              "\n",
              "#sk-container-id-2 a.estimator_doc_link.fitted:hover {\n",
              "  /* fitted */\n",
              "  background-color: var(--sklearn-color-fitted-level-3);\n",
              "}\n",
              "</style><div id=\"sk-container-id-2\" class=\"sk-top-container\"><div class=\"sk-text-repr-fallback\"><pre>GridSearchCV(cv=3, estimator=SVC(),\n",
              "             param_grid={&#x27;C&#x27;: [0.1, 1, 10], &#x27;gamma&#x27;: [0.01, 0.1, 1],\n",
              "                         &#x27;kernel&#x27;: [&#x27;linear&#x27;, &#x27;rbf&#x27;]})</pre><b>In a Jupyter environment, please rerun this cell to show the HTML representation or trust the notebook. <br />On GitHub, the HTML representation is unable to render, please try loading this page with nbviewer.org.</b></div><div class=\"sk-container\" hidden><div class=\"sk-item sk-dashed-wrapped\"><div class=\"sk-label-container\"><div class=\"sk-label fitted sk-toggleable\"><input class=\"sk-toggleable__control sk-hidden--visually\" id=\"sk-estimator-id-2\" type=\"checkbox\" ><label for=\"sk-estimator-id-2\" class=\"sk-toggleable__label fitted sk-toggleable__label-arrow\"><div><div>GridSearchCV</div></div><div><a class=\"sk-estimator-doc-link fitted\" rel=\"noreferrer\" target=\"_blank\" href=\"https://scikit-learn.org/1.6/modules/generated/sklearn.model_selection.GridSearchCV.html\">?<span>Documentation for GridSearchCV</span></a><span class=\"sk-estimator-doc-link fitted\">i<span>Fitted</span></span></div></label><div class=\"sk-toggleable__content fitted\"><pre>GridSearchCV(cv=3, estimator=SVC(),\n",
              "             param_grid={&#x27;C&#x27;: [0.1, 1, 10], &#x27;gamma&#x27;: [0.01, 0.1, 1],\n",
              "                         &#x27;kernel&#x27;: [&#x27;linear&#x27;, &#x27;rbf&#x27;]})</pre></div> </div></div><div class=\"sk-parallel\"><div class=\"sk-parallel-item\"><div class=\"sk-item\"><div class=\"sk-label-container\"><div class=\"sk-label fitted sk-toggleable\"><input class=\"sk-toggleable__control sk-hidden--visually\" id=\"sk-estimator-id-3\" type=\"checkbox\" ><label for=\"sk-estimator-id-3\" class=\"sk-toggleable__label fitted sk-toggleable__label-arrow\"><div><div>best_estimator_: SVC</div></div></label><div class=\"sk-toggleable__content fitted\"><pre>SVC(C=0.1, gamma=0.01, kernel=&#x27;linear&#x27;)</pre></div> </div></div><div class=\"sk-serial\"><div class=\"sk-item\"><div class=\"sk-estimator fitted sk-toggleable\"><input class=\"sk-toggleable__control sk-hidden--visually\" id=\"sk-estimator-id-4\" type=\"checkbox\" ><label for=\"sk-estimator-id-4\" class=\"sk-toggleable__label fitted sk-toggleable__label-arrow\"><div><div>SVC</div></div><div><a class=\"sk-estimator-doc-link fitted\" rel=\"noreferrer\" target=\"_blank\" href=\"https://scikit-learn.org/1.6/modules/generated/sklearn.svm.SVC.html\">?<span>Documentation for SVC</span></a></div></label><div class=\"sk-toggleable__content fitted\"><pre>SVC(C=0.1, gamma=0.01, kernel=&#x27;linear&#x27;)</pre></div> </div></div></div></div></div></div></div></div></div>"
            ]
          },
          "metadata": {},
          "execution_count": 47
        }
      ]
    },
    {
      "cell_type": "code",
      "source": [
        "# Step 5: Print best parameters\n",
        "print(\"Best Parameters:\", clf.best_params_)"
      ],
      "metadata": {
        "colab": {
          "base_uri": "https://localhost:8080/"
        },
        "id": "LkxkawtXw6jT",
        "outputId": "3043343e-9d6e-40c9-9661-31bc2a73b477"
      },
      "execution_count": 48,
      "outputs": [
        {
          "output_type": "stream",
          "name": "stdout",
          "text": [
            "Best Parameters: {'C': 0.1, 'gamma': 0.01, 'kernel': 'linear'}\n"
          ]
        }
      ]
    },
    {
      "cell_type": "markdown",
      "source": [
        "**11) Write a Python program to train an SVM Classifier on an imbalanced dataset and apply class weighting and\n",
        "check it improve accuracy.**"
      ],
      "metadata": {
        "id": "vVq6sHYwx1qF"
      }
    },
    {
      "cell_type": "code",
      "source": [
        "from sklearn.datasets import make_classification\n",
        "from sklearn.svm import SVC\n",
        "from sklearn.model_selection import train_test_split\n",
        "from sklearn.metrics import accuracy_score"
      ],
      "metadata": {
        "id": "VQtYHHASyN-0"
      },
      "execution_count": 52,
      "outputs": []
    },
    {
      "cell_type": "code",
      "source": [
        "# Create imbalanced dataset\n",
        "X, y = make_classification(n_samples=1000, weights=[0.9, 0.1], random_state=42)\n",
        "X_train, X_test, y_train, y_test = train_test_split(X, y, test_size=0.2, random_state=42)"
      ],
      "metadata": {
        "id": "vuRJctEfw6mk"
      },
      "execution_count": 53,
      "outputs": []
    },
    {
      "cell_type": "code",
      "source": [
        "# Train without class weighting\n",
        "clf1 = SVC().fit(X_train, y_train)\n",
        "acc1 = accuracy_score(y_test, clf1.predict(X_test))"
      ],
      "metadata": {
        "id": "PD-vhQN1w6pc"
      },
      "execution_count": 54,
      "outputs": []
    },
    {
      "cell_type": "code",
      "source": [
        "# Train with class weighting\n",
        "clf2 = SVC(class_weight='balanced').fit(X_train, y_train)\n",
        "acc2 = accuracy_score(y_test, clf2.predict(X_test))"
      ],
      "metadata": {
        "id": "J1ce-sD6vjXD"
      },
      "execution_count": 55,
      "outputs": []
    },
    {
      "cell_type": "code",
      "source": [
        "print(f'Without Class Weighting: {acc1:.2f}')\n",
        "print(f'With Class Weighting: {acc2:.2f}')"
      ],
      "metadata": {
        "id": "FVzsyRzXM3lq",
        "colab": {
          "base_uri": "https://localhost:8080/"
        },
        "outputId": "8c5bb911-3137-4617-a25a-36ac68cafe89"
      },
      "execution_count": 56,
      "outputs": [
        {
          "output_type": "stream",
          "name": "stdout",
          "text": [
            "Without Class Weighting: 0.90\n",
            "With Class Weighting: 0.90\n"
          ]
        }
      ]
    },
    {
      "cell_type": "markdown",
      "source": [
        "**12) Write a Python program to implement a Naïve Bayes classifier for spam detection using email data.**"
      ],
      "metadata": {
        "id": "4zkdUogAyV5s"
      }
    },
    {
      "cell_type": "code",
      "source": [
        "from sklearn.feature_extraction.text import CountVectorizer\n",
        "from sklearn.model_selection import train_test_split\n",
        "from sklearn.naive_bayes import MultinomialNB\n",
        "from sklearn.metrics import accuracy_score"
      ],
      "metadata": {
        "id": "2AM1j4b8yFNq"
      },
      "execution_count": 57,
      "outputs": []
    },
    {
      "cell_type": "code",
      "source": [
        "# Sample email data\n",
        "emails = [\"Win a lottery now\", \"Hello friend, how are you?\", \"Get cheap meds online\", \"Meeting at 5 PM\", \"Congratulations, you won!\"]\n",
        "labels = [1, 0, 1, 0, 1]  # 1 = Spam, 0 = Not Spam"
      ],
      "metadata": {
        "id": "8gs46hFxyFQ7"
      },
      "execution_count": 58,
      "outputs": []
    },
    {
      "cell_type": "code",
      "source": [
        "# Convert text to feature vectors\n",
        "vectorizer = CountVectorizer()\n",
        "X = vectorizer.fit_transform(emails)"
      ],
      "metadata": {
        "id": "iHqopT4VyFUz"
      },
      "execution_count": 59,
      "outputs": []
    },
    {
      "cell_type": "code",
      "source": [
        "# Split data\n",
        "X_train, X_test, y_train, y_test = train_test_split(X, labels, test_size=0.2, random_state=42)"
      ],
      "metadata": {
        "id": "QI8SxYNWyFXA"
      },
      "execution_count": 60,
      "outputs": []
    },
    {
      "cell_type": "code",
      "source": [
        "# Train Naïve Bayes classifier\n",
        "clf = MultinomialNB().fit(X_train, y_train)"
      ],
      "metadata": {
        "id": "VlVxncjCyFZ9"
      },
      "execution_count": 61,
      "outputs": []
    },
    {
      "cell_type": "code",
      "source": [
        "# Predict and evaluate\n",
        "y_pred = clf.predict(X_test)\n",
        "accuracy = accuracy_score(y_test, y_pred)\n",
        "print(f'Accuracy: {accuracy:.2f}')"
      ],
      "metadata": {
        "colab": {
          "base_uri": "https://localhost:8080/"
        },
        "id": "nW9rMXz0yFc3",
        "outputId": "780faa0b-2d95-4813-8dd5-59f535cc0638"
      },
      "execution_count": 62,
      "outputs": [
        {
          "output_type": "stream",
          "name": "stdout",
          "text": [
            "Accuracy: 0.00\n"
          ]
        }
      ]
    },
    {
      "cell_type": "markdown",
      "source": [
        "**13) Write a Python program to train an SVM Classifier and a Naïve Bayes Classifier on the same dataset and\n",
        "compare their accuracy.**"
      ],
      "metadata": {
        "id": "1JIxMBlQyy3W"
      }
    },
    {
      "cell_type": "code",
      "source": [
        "from sklearn.datasets import load_iris\n",
        "from sklearn.model_selection import train_test_split\n",
        "from sklearn.svm import SVC\n",
        "from sklearn.naive_bayes import GaussianNB\n",
        "from sklearn.metrics import accuracy_score"
      ],
      "metadata": {
        "id": "G9XmqURQyFgO"
      },
      "execution_count": 63,
      "outputs": []
    },
    {
      "cell_type": "code",
      "source": [
        "# Load dataset\n",
        "X, y = load_iris(return_X_y=True)\n",
        "X, y = X[y < 2], y[y < 2]  # Binary classification\n",
        "X_train, X_test, y_train, y_test = train_test_split(X, y, test_size=0.2, random_state=42)"
      ],
      "metadata": {
        "id": "7vWUTfc4ysYv"
      },
      "execution_count": 64,
      "outputs": []
    },
    {
      "cell_type": "code",
      "source": [
        "# Train SVM\n",
        "svm_clf = SVC().fit(X_train, y_train)\n",
        "svm_acc = accuracy_score(y_test, svm_clf.predict(X_test))"
      ],
      "metadata": {
        "id": "qD23178cyscN"
      },
      "execution_count": 65,
      "outputs": []
    },
    {
      "cell_type": "code",
      "source": [
        "# Train Naïve Bayes\n",
        "nb_clf = GaussianNB().fit(X_train, y_train)\n",
        "nb_acc = accuracy_score(y_test, nb_clf.predict(X_test))"
      ],
      "metadata": {
        "id": "VRS4Jnghysif"
      },
      "execution_count": 66,
      "outputs": []
    },
    {
      "cell_type": "code",
      "source": [
        "# Compare Accuracy\n",
        "print(f'SVM Accuracy: {svm_acc:.2f}')\n",
        "print(f'Naïve Bayes Accuracy: {nb_acc:.2f}')"
      ],
      "metadata": {
        "colab": {
          "base_uri": "https://localhost:8080/"
        },
        "id": "PPENWqc5ysl7",
        "outputId": "795afc5d-d4a4-4cd9-865d-af30d47b86fe"
      },
      "execution_count": 67,
      "outputs": [
        {
          "output_type": "stream",
          "name": "stdout",
          "text": [
            "SVM Accuracy: 1.00\n",
            "Naïve Bayes Accuracy: 1.00\n"
          ]
        }
      ]
    },
    {
      "cell_type": "markdown",
      "source": [
        "**14) Write a Python program to perform feature selection before training a Naïve Bayes classifier and compare\n",
        "results.**"
      ],
      "metadata": {
        "id": "ch5zicwszL5b"
      }
    },
    {
      "cell_type": "code",
      "source": [
        "from sklearn.feature_selection import SelectKBest, f_classif"
      ],
      "metadata": {
        "id": "bbPCiIF2yssj"
      },
      "execution_count": 73,
      "outputs": []
    },
    {
      "cell_type": "code",
      "source": [
        "# Perform feature selection\n",
        "X_new = SelectKBest(f_classif, k=2).fit_transform(X, y)\n",
        "X_train_new, X_test_new, y_train_new, y_test_new = train_test_split(X_new, y, test_size=0.2, random_state=42)"
      ],
      "metadata": {
        "id": "VWvwTrVIyswe"
      },
      "execution_count": 74,
      "outputs": []
    },
    {
      "cell_type": "code",
      "source": [
        "# Train with feature selection\n",
        "clf2 = GaussianNB().fit(X_train_new, y_train_new)\n",
        "acc2 = accuracy_score(y_test_new, clf2.predict(X_test_new))"
      ],
      "metadata": {
        "id": "PuzbhM7zyszn"
      },
      "execution_count": 75,
      "outputs": []
    },
    {
      "cell_type": "code",
      "source": [
        "print(f'With Feature Selection Accuracy: {acc2:.2f}')"
      ],
      "metadata": {
        "colab": {
          "base_uri": "https://localhost:8080/"
        },
        "id": "TA93ukgnys2w",
        "outputId": "4b41cf9e-5043-4e68-b7a8-8ca74798fbed"
      },
      "execution_count": 76,
      "outputs": [
        {
          "output_type": "stream",
          "name": "stdout",
          "text": [
            "With Feature Selection Accuracy: 1.00\n"
          ]
        }
      ]
    },
    {
      "cell_type": "markdown",
      "source": [
        "**15) Write a Python program to train an SVM Classifier using One-vs-Rest (OvR) and One-vs-One (OvO)\n",
        "strategies on the Wine dataset and compare their accuracy.**"
      ],
      "metadata": {
        "id": "1cnqyGxt0IxG"
      }
    },
    {
      "cell_type": "code",
      "source": [
        "from sklearn.datasets import load_wine\n",
        "from sklearn.model_selection import train_test_split\n",
        "from sklearn.svm import SVC\n",
        "from sklearn.multiclass import OneVsRestClassifier, OneVsOneClassifier\n",
        "from sklearn.metrics import accuracy_score"
      ],
      "metadata": {
        "id": "4nD9tCYbys6J"
      },
      "execution_count": 77,
      "outputs": []
    },
    {
      "cell_type": "code",
      "source": [
        "# Load dataset\n",
        "X, y = load_wine(return_X_y=True)\n",
        "X_train, X_test, y_train, y_test = train_test_split(X, y, test_size=0.2, random_state=42)"
      ],
      "metadata": {
        "id": "ddVM8cKn0OjJ"
      },
      "execution_count": 78,
      "outputs": []
    },
    {
      "cell_type": "code",
      "source": [
        "# Train using One-vs-Rest (OvR)\n",
        "ovr_clf = OneVsRestClassifier(SVC()).fit(X_train, y_train)\n",
        "ovr_acc = accuracy_score(y_test, ovr_clf.predict(X_test))"
      ],
      "metadata": {
        "id": "oXYuI0VI0Oml"
      },
      "execution_count": 79,
      "outputs": []
    },
    {
      "cell_type": "code",
      "source": [
        "# Train using One-vs-One (OvO)\n",
        "ovo_clf = OneVsOneClassifier(SVC()).fit(X_train, y_train)\n",
        "ovo_acc = accuracy_score(y_test, ovo_clf.predict(X_test))"
      ],
      "metadata": {
        "id": "CxIuoAQC0Opk"
      },
      "execution_count": 80,
      "outputs": []
    },
    {
      "cell_type": "code",
      "source": [
        "# Compare Accuracy\n",
        "print(f'OvR Accuracy: {ovr_acc:.2f}')\n",
        "print(f'OvO Accuracy: {ovo_acc:.2f}')"
      ],
      "metadata": {
        "colab": {
          "base_uri": "https://localhost:8080/"
        },
        "id": "A_PX791O0Osm",
        "outputId": "50d778b6-a7d3-4cef-8e24-1bac75f14ab7"
      },
      "execution_count": 81,
      "outputs": [
        {
          "output_type": "stream",
          "name": "stdout",
          "text": [
            "OvR Accuracy: 0.78\n",
            "OvO Accuracy: 0.83\n"
          ]
        }
      ]
    },
    {
      "cell_type": "markdown",
      "source": [
        "**16) Write a Python program to train an SVM Classifier using Linear, Polynomial, and RBF kernels on the Breast\n",
        "Cancer dataset and compare their accuracy.**"
      ],
      "metadata": {
        "id": "ZykEvBpB0g80"
      }
    },
    {
      "cell_type": "code",
      "source": [
        "from sklearn.datasets import load_breast_cancer\n",
        "from sklearn.model_selection import train_test_split\n",
        "from sklearn.svm import SVC\n",
        "from sklearn.metrics import accuracy_score"
      ],
      "metadata": {
        "id": "YAWw38Yj0Ovp"
      },
      "execution_count": 82,
      "outputs": []
    },
    {
      "cell_type": "code",
      "source": [
        "# Load dataset\n",
        "X, y = load_breast_cancer(return_X_y=True)\n",
        "X_train, X_test, y_train, y_test = train_test_split(X, y, test_size=0.2, random_state=42)"
      ],
      "metadata": {
        "id": "tvfCFLJ10Oy6"
      },
      "execution_count": 83,
      "outputs": []
    },
    {
      "cell_type": "code",
      "source": [
        "# Train SVM with Linear kernel\n",
        "linear_clf = SVC(kernel='linear').fit(X_train, y_train)\n",
        "linear_acc = accuracy_score(y_test, linear_clf.predict(X_test))"
      ],
      "metadata": {
        "id": "eaOgemoPys-z"
      },
      "execution_count": 84,
      "outputs": []
    },
    {
      "cell_type": "code",
      "source": [
        "# Train SVM with Polynomial kernel\n",
        "poly_clf = SVC(kernel='poly', degree=3).fit(X_train, y_train)\n",
        "poly_acc = accuracy_score(y_test, poly_clf.predict(X_test))"
      ],
      "metadata": {
        "id": "cNYjISAFytA4"
      },
      "execution_count": 85,
      "outputs": []
    },
    {
      "cell_type": "code",
      "source": [
        "# Train SVM with RBF kernel\n",
        "rbf_clf = SVC(kernel='rbf').fit(X_train, y_train)\n",
        "rbf_acc = accuracy_score(y_test, rbf_clf.predict(X_test))"
      ],
      "metadata": {
        "id": "Wv06eakgytEZ"
      },
      "execution_count": 86,
      "outputs": []
    },
    {
      "cell_type": "code",
      "source": [
        "# Compare Accuracy\n",
        "print(f'Linear Kernel Accuracy: {linear_acc:.2f}')\n",
        "print(f'Polynomial Kernel Accuracy: {poly_acc:.2f}')\n",
        "print(f'RBF Kernel Accuracy: {rbf_acc:.2f}')"
      ],
      "metadata": {
        "colab": {
          "base_uri": "https://localhost:8080/"
        },
        "id": "evVSvlA5yFi_",
        "outputId": "6463b723-67aa-4b62-f5a7-50dc6c1bda9e"
      },
      "execution_count": 87,
      "outputs": [
        {
          "output_type": "stream",
          "name": "stdout",
          "text": [
            "Linear Kernel Accuracy: 0.96\n",
            "Polynomial Kernel Accuracy: 0.95\n",
            "RBF Kernel Accuracy: 0.95\n"
          ]
        }
      ]
    },
    {
      "cell_type": "markdown",
      "source": [
        "**17) Write a Python program to train an SVM Classifier using Stratified K-Fold Cross-Validation and compute the\n",
        "average accuracy.**"
      ],
      "metadata": {
        "id": "WrTmNLid1ApL"
      }
    },
    {
      "cell_type": "code",
      "source": [
        "from sklearn.model_selection import StratifiedKFold, cross_val_score\n",
        "from sklearn.svm import SVC\n",
        "from sklearn.datasets import load_breast_cancer"
      ],
      "metadata": {
        "id": "zdW2Ep50yFpa"
      },
      "execution_count": 88,
      "outputs": []
    },
    {
      "cell_type": "code",
      "source": [
        "# Load dataset\n",
        "X, y = load_breast_cancer(return_X_y=True)"
      ],
      "metadata": {
        "id": "zJE5jWU409mm"
      },
      "execution_count": 89,
      "outputs": []
    },
    {
      "cell_type": "code",
      "source": [
        "# Stratified K-Fold Cross-Validation\n",
        "skf = StratifiedKFold(n_splits=5, shuffle=True, random_state=42)\n",
        "clf = SVC(kernel='linear')"
      ],
      "metadata": {
        "id": "zkqk0FjH09pW"
      },
      "execution_count": 90,
      "outputs": []
    },
    {
      "cell_type": "code",
      "source": [
        "# Compute cross-validated accuracy\n",
        "scores = cross_val_score(clf, X, y, cv=skf, scoring='accuracy')"
      ],
      "metadata": {
        "id": "sgfGz5Nr09sg"
      },
      "execution_count": 91,
      "outputs": []
    },
    {
      "cell_type": "code",
      "source": [
        "# Print average accuracy\n",
        "print(f'Average Accuracy: {scores.mean():.2f}')"
      ],
      "metadata": {
        "colab": {
          "base_uri": "https://localhost:8080/"
        },
        "id": "2P1JfBKp09v1",
        "outputId": "dd17099e-7cef-483a-9af2-11811800a229"
      },
      "execution_count": 92,
      "outputs": [
        {
          "output_type": "stream",
          "name": "stdout",
          "text": [
            "Average Accuracy: 0.95\n"
          ]
        }
      ]
    },
    {
      "cell_type": "markdown",
      "source": [
        "**18) Write a Python program to train a Naïve Bayes classifier using different prior probabilities and compare\n",
        "performance.**"
      ],
      "metadata": {
        "id": "LMNdGT561Ui1"
      }
    },
    {
      "cell_type": "code",
      "source": [
        "from sklearn.datasets import load_iris\n",
        "from sklearn.model_selection import train_test_split\n",
        "from sklearn.naive_bayes import GaussianNB\n",
        "from sklearn.metrics import accuracy_score"
      ],
      "metadata": {
        "id": "C9yvjQyg09yu"
      },
      "execution_count": 93,
      "outputs": []
    },
    {
      "cell_type": "code",
      "source": [
        "# Load dataset\n",
        "X, y = load_iris(return_X_y=True)\n",
        "X_train, X_test, y_train, y_test = train_test_split(X, y, test_size=0.2, random_state=42)"
      ],
      "metadata": {
        "id": "mvt6JBFu0914"
      },
      "execution_count": 94,
      "outputs": []
    },
    {
      "cell_type": "code",
      "source": [
        "# Train Naïve Bayes without prior probabilities\n",
        "clf1 = GaussianNB().fit(X_train, y_train)\n",
        "acc1 = accuracy_score(y_test, clf1.predict(X_test))"
      ],
      "metadata": {
        "id": "xYbFI_rq095M"
      },
      "execution_count": 95,
      "outputs": []
    },
    {
      "cell_type": "code",
      "source": [
        "# Train Naïve Bayes with custom prior probabilities\n",
        "priors = [0.2, 0.5, 0.3]  # Example prior probabilities for 3 classes\n",
        "clf2 = GaussianNB(priors=priors).fit(X_train, y_train)\n",
        "acc2 = accuracy_score(y_test, clf2.predict(X_test))"
      ],
      "metadata": {
        "id": "GiZxHUhx098G"
      },
      "execution_count": 96,
      "outputs": []
    },
    {
      "cell_type": "code",
      "source": [
        "# Compare Accuracy\n",
        "print(f'Without Prior Probabilities Accuracy: {acc1:.2f}')\n",
        "print(f'With Prior Probabilities Accuracy: {acc2:.2f}')"
      ],
      "metadata": {
        "colab": {
          "base_uri": "https://localhost:8080/"
        },
        "id": "wB_iIAj409_R",
        "outputId": "cbb05d5a-dab6-42c4-f16c-706e606d2665"
      },
      "execution_count": 97,
      "outputs": [
        {
          "output_type": "stream",
          "name": "stdout",
          "text": [
            "Without Prior Probabilities Accuracy: 1.00\n",
            "With Prior Probabilities Accuracy: 1.00\n"
          ]
        }
      ]
    },
    {
      "cell_type": "markdown",
      "source": [
        "**19) Write a Python program to perform Recursive Feature Elimination (RFE) before training an SVM Classifier and\n",
        "compare accuracy.**"
      ],
      "metadata": {
        "id": "QSwp9K8f106I"
      }
    },
    {
      "cell_type": "code",
      "source": [
        "from sklearn.feature_selection import RFE\n",
        "# Perform Recursive Feature Elimination (RFE)\n",
        "rfe = RFE(SVC(kernel='linear'), n_features_to_select=5)\n",
        "X_train_rfe = rfe.fit_transform(X_train, y_train)\n",
        "X_test_rfe = rfe.transform(X_test)"
      ],
      "metadata": {
        "colab": {
          "base_uri": "https://localhost:8080/"
        },
        "id": "ud6PbGNK0-CQ",
        "outputId": "c047827e-5d21-4ba9-c876-28998cb82a35"
      },
      "execution_count": 98,
      "outputs": [
        {
          "output_type": "stream",
          "name": "stderr",
          "text": [
            "/usr/local/lib/python3.11/dist-packages/sklearn/feature_selection/_rfe.py:300: UserWarning: Found n_features_to_select=5 > n_features=4. There will be no feature selection and all features will be kept.\n",
            "  warnings.warn(\n"
          ]
        }
      ]
    },
    {
      "cell_type": "code",
      "source": [
        "# Train SVM with selected features\n",
        "clf_rfe = SVC(kernel='linear').fit(X_train_rfe, y_train)\n",
        "acc_rfe = accuracy_score(y_test, clf_rfe.predict(X_test_rfe))"
      ],
      "metadata": {
        "id": "2E3BZBuc0-FM"
      },
      "execution_count": 99,
      "outputs": []
    },
    {
      "cell_type": "code",
      "source": [
        "# Compare Accuracy\n",
        "print(f'Without RFE Accuracy: {accuracy_score(y_test, SVC(kernel=\"linear\").fit(X_train, y_train).predict(X_test)):.2f}')\n",
        "print(f'With RFE Accuracy: {acc_rfe:.2f}')"
      ],
      "metadata": {
        "colab": {
          "base_uri": "https://localhost:8080/"
        },
        "id": "fwc4MVNz0-IS",
        "outputId": "9e962a1c-e320-4f0a-b459-673ddeb47a02"
      },
      "execution_count": 100,
      "outputs": [
        {
          "output_type": "stream",
          "name": "stdout",
          "text": [
            "Without RFE Accuracy: 1.00\n",
            "With RFE Accuracy: 1.00\n"
          ]
        }
      ]
    },
    {
      "cell_type": "markdown",
      "source": [
        "**20) Write a Python program to train an SVM Classifier and evaluate its performance using Precision, Recall, and\n",
        "F1-Score instead of accuracy.**"
      ],
      "metadata": {
        "id": "aw2CU5Qz2Kyw"
      }
    },
    {
      "cell_type": "code",
      "source": [
        "from sklearn.metrics import precision_score, recall_score, f1_score\n",
        "# Train SVM Classifier\n",
        "clf = SVC(kernel='linear').fit(X_train, y_train)\n",
        "y_pred = clf.predict(X_test)"
      ],
      "metadata": {
        "id": "eyS76KpJ0-Lk"
      },
      "execution_count": 101,
      "outputs": []
    },
    {
      "cell_type": "code",
      "source": [
        "# Compute Precision, Recall, and F1-Score\n",
        "precision = precision_score(y_test, y_pred, average='weighted')\n",
        "recall = recall_score(y_test, y_pred, average='weighted')\n",
        "f1 = f1_score(y_test, y_pred, average='weighted')"
      ],
      "metadata": {
        "id": "1kOq-RXT0-Ot"
      },
      "execution_count": 102,
      "outputs": []
    },
    {
      "cell_type": "code",
      "source": [
        "# Print Performance Metrics\n",
        "print(f'Precision: {precision:.2f}')\n",
        "print(f'Recall: {recall:.2f}')\n",
        "print(f'F1-Score: {f1:.2f}')"
      ],
      "metadata": {
        "colab": {
          "base_uri": "https://localhost:8080/"
        },
        "id": "RmxKyTtX0-Rq",
        "outputId": "ecf4d82f-e3b5-4cbc-a705-4ae97948b06a"
      },
      "execution_count": 103,
      "outputs": [
        {
          "output_type": "stream",
          "name": "stdout",
          "text": [
            "Precision: 1.00\n",
            "Recall: 1.00\n",
            "F1-Score: 1.00\n"
          ]
        }
      ]
    },
    {
      "cell_type": "markdown",
      "source": [
        "**21) Write a Python program to train a Naïve Bayes Classifier and evaluate its performance using Log Loss\n",
        "(Cross-Entropy Loss).**"
      ],
      "metadata": {
        "id": "wu-i7m3B2hn3"
      }
    },
    {
      "cell_type": "code",
      "source": [
        "from sklearn.metrics import log_loss"
      ],
      "metadata": {
        "id": "QskvkMro0-U3"
      },
      "execution_count": 104,
      "outputs": []
    },
    {
      "cell_type": "code",
      "source": [
        "# Train Naïve Bayes Classifier\n",
        "nb_clf = GaussianNB().fit(X_train, y_train)\n",
        "y_pred_proba = nb_clf.predict_proba(X_test)"
      ],
      "metadata": {
        "id": "Zsbg5gYk0-YE"
      },
      "execution_count": 105,
      "outputs": []
    },
    {
      "cell_type": "code",
      "source": [
        "# Compute Log Loss\n",
        "loss = log_loss(y_test, y_pred_proba)"
      ],
      "metadata": {
        "id": "5by1oB920-a9"
      },
      "execution_count": 106,
      "outputs": []
    },
    {
      "cell_type": "code",
      "source": [
        "# Print Log Loss\n",
        "print(f'Log Loss: {loss:.2f}')"
      ],
      "metadata": {
        "colab": {
          "base_uri": "https://localhost:8080/"
        },
        "id": "C6UL272w0-eG",
        "outputId": "b50d02cc-85e7-4021-b024-d27d7b0a9e5a"
      },
      "execution_count": 107,
      "outputs": [
        {
          "output_type": "stream",
          "name": "stdout",
          "text": [
            "Log Loss: 0.03\n"
          ]
        }
      ]
    },
    {
      "cell_type": "markdown",
      "source": [
        "**22) Write a Python program to train an SVM Classifier and visualize the Confusion Matrix using seaborn.**"
      ],
      "metadata": {
        "id": "XjNLW6V421uv"
      }
    },
    {
      "cell_type": "code",
      "source": [
        "import seaborn as sns\n",
        "import matplotlib.pyplot as plt\n",
        "from sklearn.metrics import confusion_matrix"
      ],
      "metadata": {
        "id": "bu31vwN20-hB"
      },
      "execution_count": 108,
      "outputs": []
    },
    {
      "cell_type": "code",
      "source": [
        "# Train SVM Classifier\n",
        "svm_clf = SVC(kernel='linear').fit(X_train, y_train)\n",
        "y_pred = svm_clf.predict(X_test)"
      ],
      "metadata": {
        "id": "veSHujFK0-kH"
      },
      "execution_count": 109,
      "outputs": []
    },
    {
      "cell_type": "code",
      "source": [
        "# Compute Confusion Matrix\n",
        "cm = confusion_matrix(y_test, y_pred)"
      ],
      "metadata": {
        "id": "g-TctXYx0-nZ"
      },
      "execution_count": 110,
      "outputs": []
    },
    {
      "cell_type": "code",
      "source": [
        "# Visualize Confusion Matrix\n",
        "plt.figure(figsize=(6,4))\n",
        "sns.heatmap(cm, annot=True, fmt='d', cmap='Blues', xticklabels=set(y_test), yticklabels=set(y_test))\n",
        "plt.xlabel('Predicted')\n",
        "plt.ylabel('Actual')\n",
        "plt.title('Confusion Matrix')\n",
        "plt.show()"
      ],
      "metadata": {
        "colab": {
          "base_uri": "https://localhost:8080/",
          "height": 410
        },
        "id": "-UQxc2kW0-qR",
        "outputId": "4d52360b-b7f9-4856-c783-3a0683c89479"
      },
      "execution_count": 111,
      "outputs": [
        {
          "output_type": "display_data",
          "data": {
            "text/plain": [
              "<Figure size 600x400 with 2 Axes>"
            ],
            "image/png": "[encoded data removed]"
          },
          "metadata": {}
        }
      ]
    },
    {
      "cell_type": "markdown",
      "source": [
        "**23) Write a Python program to train an SVM Regressor (SVR) and evaluate its performance using Mean Absolute\n",
        "Error (MAE) instead of MSE.**"
      ],
      "metadata": {
        "id": "UfLFROmd3NQg"
      }
    },
    {
      "cell_type": "code",
      "source": [
        "from sklearn.svm import SVR\n",
        "from sklearn.metrics import mean_absolute_error"
      ],
      "metadata": {
        "id": "1FUkkl0j0-uv"
      },
      "execution_count": 112,
      "outputs": []
    },
    {
      "cell_type": "code",
      "source": [
        "# Train SVR Model\n",
        "svr = SVR().fit(X_train, y_train)\n",
        "y_pred = svr.predict(X_test)"
      ],
      "metadata": {
        "id": "XqM42ehi0-x-"
      },
      "execution_count": 113,
      "outputs": []
    },
    {
      "cell_type": "code",
      "source": [
        "# Compute MAE\n",
        "mae = mean_absolute_error(y_test, y_pred)\n",
        "print(f'Mean Absolute Error: {mae:.2f}')"
      ],
      "metadata": {
        "colab": {
          "base_uri": "https://localhost:8080/"
        },
        "id": "ue-T-vSH0-0W",
        "outputId": "64aa3b31-71c4-4ff7-f60c-a3bc0fe7cc0c"
      },
      "execution_count": 114,
      "outputs": [
        {
          "output_type": "stream",
          "name": "stdout",
          "text": [
            "Mean Absolute Error: 0.16\n"
          ]
        }
      ]
    },
    {
      "cell_type": "markdown",
      "source": [
        "**24) Write a Python program to train a Naïve Bayes classifier and evaluate its performance using the ROC-AUC\n",
        "score.**"
      ],
      "metadata": {
        "id": "FOpcc_mg3eD_"
      }
    },
    {
      "cell_type": "code",
      "source": [
        "from sklearn.metrics import roc_auc_score\n",
        "# Train Naïve Bayes Classifier\n",
        "nb_clf = GaussianNB().fit(X_train, y_train)\n",
        "y_pred_proba = nb_clf.predict_proba(X_test)[:, 1]"
      ],
      "metadata": {
        "id": "tsTd9eJz0-3d"
      },
      "execution_count": 123,
      "outputs": []
    },
    {
      "cell_type": "code",
      "source": [
        "# Train SVM Classifier\n",
        "svm_clf = SVC(kernel='linear', probability=True).fit(X_train, y_train)\n",
        "y_scores = svm_clf.predict_proba(X_test)[:, 1]"
      ],
      "metadata": {
        "id": "kEzuDa7T0-6c"
      },
      "execution_count": 124,
      "outputs": []
    },
    {
      "cell_type": "markdown",
      "source": [
        "**25) Write a Python program to train an SVM Classifier and visualize the Precision-Recall Curve.**"
      ],
      "metadata": {
        "id": "kHA_HlWl3_X7"
      }
    },
    {
      "cell_type": "code",
      "source": [
        "import matplotlib.pyplot as plt\n",
        "from sklearn.svm import SVC\n",
        "from sklearn.metrics import precision_recall_curve\n",
        "from sklearn.preprocessing import label_binarize"
      ],
      "metadata": {
        "id": "CAlgT_tJ0-9r"
      },
      "execution_count": 131,
      "outputs": []
    },
    {
      "cell_type": "code",
      "source": [
        "# Binarize the labels for multiclass classification\n",
        "y_test_bin = label_binarize(y_test, classes=[0, 1, 2])  # Adjust class labels as per your dataset"
      ],
      "metadata": {
        "id": "bgb9CxKi0_At"
      },
      "execution_count": 132,
      "outputs": []
    },
    {
      "cell_type": "code",
      "source": [
        "# Train SVM Classifier\n",
        "svm_clf = SVC(kernel='linear', probability=True).fit(X_train, y_train)\n",
        "y_scores = svm_clf.predict_proba(X_test)"
      ],
      "metadata": {
        "id": "XduILFsh0_EC"
      },
      "execution_count": 133,
      "outputs": []
    },
    {
      "cell_type": "code",
      "source": [
        "# Plot Precision-Recall Curve for each class\n",
        "plt.figure()\n",
        "for i in range(y_test_bin.shape[1]):\n",
        "    precision, recall, _ = precision_recall_curve(y_test_bin[:, i], y_scores[:, i])\n",
        "    plt.plot(recall, precision, marker='.', label=f'Class {i}')\n",
        "\n",
        "plt.xlabel('Recall')\n",
        "plt.ylabel('Precision')\n",
        "plt.title('Precision-Recall Curve for Each Class')\n",
        "plt.legend()\n",
        "plt.show()"
      ],
      "metadata": {
        "colab": {
          "base_uri": "https://localhost:8080/",
          "height": 472
        },
        "id": "E396rOBu0_HW",
        "outputId": "5b338d8b-4587-4f28-dc76-2b2a0fed8d4f"
      },
      "execution_count": 134,
      "outputs": [
        {
          "output_type": "display_data",
          "data": {
            "text/plain": [
              "<Figure size 640x480 with 1 Axes>"
            ],
            "image/png": "[encoded data removed]"
          },
          "metadata": {}
        }
      ]
    }
  ]
}